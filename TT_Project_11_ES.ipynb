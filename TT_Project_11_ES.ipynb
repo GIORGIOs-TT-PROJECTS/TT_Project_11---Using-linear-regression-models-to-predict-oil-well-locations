{
 "cells": [
  {
   "cell_type": "markdown",
   "metadata": {},
   "source": [
    "# Uso de modelos de regresión lineal para predecir las ubicaciones de los pozos petroleros con el mayor margen de beneficio\n",
    "\n",
    "La empresa minera `OilyGiant` busca construir `200 nuevos pozos petroleros`. Nuestra tarea es encontrar la region con el mayor margen de beneficio para la empresa. Se tiene información sobre las reservas de petróleo en tres regiones específicas. Entrenaremos y probaremos el modelo para cada región en `geo_data_0.csv`. \n",
    "\n",
    "`Condiciones:`\n",
    "- Solo se debe usar la `regresión lineal` para el entrenamiento del modelo`.\n",
    "- Al explorar la región, se lleva a cabo un `estudio de 500 puntos` con la selección de los `mejores 200 puntos` para el cálculo del beneficio.\n",
    "- `El presupuesto` para el desarrollo de `200 pozos petroleros` es de `100 millones de dólares`.\n",
    "- `Un barril de materias primas` genera `4.5 USD de ingresos`. El ingreso de una `unidad de producto es de 4500 dólares` (el volumen de reservas está expresado en miles de barriles).\n",
    "- Después de la evaluación de riesgo, mantén solo las `regiones con riesgo de pérdidas inferior al 2.5%`. De las que se ajustan a los criterios, se debe seleccionar la región con el beneficio promedio más alto.\n",
    "- Los datos son sintéticos: los detalles del contrato y las características del pozo no se publican.\n",
    "\n",
    "Se entrenarán tres modelos, uno para cada región (conjunto de datos). Una vez entrenados, el modelo se aplicará a un conjunto de datos de validación para pronosticar los niveles de reservas de petróleo. Con base en las 200 reservas de petróleo más grandes, se determinará la ganancia potencial utilizando el conjunto de datos de validación. Después de que se hayan procesado y examinado los datos iniciales, se recopilará una distribución de ganancias promedio para cada ubicación. Para cada región, se calcularán y mostrarán la ganancia promedio, el intervalo de confianza del 95% y el riesgo de pérdida. Elegiremos la zona más grande y más ventajosa para que OilyGiant construya su nuevo pozo con base en esas cifras calculadas."
   ]
  },
  {
   "cell_type": "markdown",
   "metadata": {},
   "source": [
    "### 1.- IMPORTAMOS LIBRERIAS"
   ]
  },
  {
   "cell_type": "code",
   "execution_count": 267,
   "metadata": {},
   "outputs": [],
   "source": [
    "# Importar las librerías necesarias\n",
    "\n",
    "import pandas as pd\n",
    "import numpy as np\n",
    "from sklearn.linear_model import LinearRegression\n",
    "from sklearn.model_selection import train_test_split\n",
    "from sklearn.metrics import mean_squared_error\n",
    "\n",
    "# Biblioteca de importación para formatear moneda\n",
    "import locale\n",
    "\n",
    "# Ocultar mensajes de advertencia\n",
    "import warnings\n",
    "warnings.filterwarnings('ignore')"
   ]
  },
  {
   "cell_type": "markdown",
   "metadata": {},
   "source": [
    "### 2.-  CARGA DE LA DATA\n",
    "\n",
    "A continuación, se leerán los archivos csv `geo_data_0.csv`, `geo_data_1.csv`, `geo_data_2.csv` y se almacenarán en DataFrames."
   ]
  },
  {
   "cell_type": "code",
   "execution_count": 268,
   "metadata": {},
   "outputs": [],
   "source": [
    "# Leer y almacenar los archivos csv en DataFrames\n",
    "\n",
    "df_0 = pd.read_csv('../TT_Project_11/dataset/geo_data_0.csv')\n",
    "df_1 = pd.read_csv('../TT_Project_11/dataset/geo_data_1.csv')\n",
    "df_2 = pd.read_csv('../TT_Project_11/dataset/geo_data_2.csv')\n"
   ]
  },
  {
   "cell_type": "markdown",
   "metadata": {},
   "source": [
    "### 3.- EXPLORANDO LA DATA\n",
    "\n",
    "Echemos un vistazo a los datos almacenados en cada uno de los tres DataFrames. Se imprimirán las primeras 15 filas de cada DataFrame, seguidas de un resumen e información general de cada uno de ellos."
   ]
  },
  {
   "cell_type": "markdown",
   "metadata": {},
   "source": [
    "#### 3.1. Descripción de datos\n",
    "\n",
    "- `id`: identificador único de pozo de petróleo\n",
    "- `f0, f1, f2`: tres características de los puntos (su significado específico no es importante, pero las características en sí son significativas)\n",
    "- `product`:  volumen de reservas en el pozo de petróleo (miles de barriles)."
   ]
  },
  {
   "cell_type": "code",
   "execution_count": 269,
   "metadata": {},
   "outputs": [
    {
     "name": "stdout",
     "output_type": "stream",
     "text": [
      "df_0:\n",
      "       id        f0        f1        f2     product\n",
      "0   txEyH  0.705745 -0.497823  1.221170  105.280062\n",
      "1   2acmU  1.334711 -0.340164  4.365080   73.037750\n",
      "2   409Wp  1.022732  0.151990  1.419926   85.265647\n",
      "3   iJLyR -0.032172  0.139033  2.978566  168.620776\n",
      "4   Xdl7t  1.988431  0.155413  4.751769  154.036647\n",
      "5   wX4Hy  0.969570  0.489775 -0.735383   64.741541\n",
      "6   tL6pL  0.645075  0.530656  1.780266   49.055285\n",
      "7   BYPU6 -0.400648  0.808337 -5.624670   72.943292\n",
      "8   j9Oui  0.643105 -0.551583  2.372141  113.356160\n",
      "9   OLuZU  2.173381  0.563698  9.441852  127.910945\n",
      "10  b8WQ6  0.371066 -0.036585  0.009208   70.326617\n",
      "11  1YYm1  0.015920  1.062729 -0.722248   45.110381\n",
      "12  zIYPq -0.276476  0.924865  0.095584   89.158678\n",
      "13  iqTqq  0.212696 -0.111147  5.770095  164.298520\n",
      "14  Ct5yY -0.018578  0.187516  2.944683  158.633720\n",
      "\n",
      "df_1:\n",
      "       id         f0         f1        f2     product\n",
      "0   kBEdx -15.001348  -8.276000 -0.005876    3.179103\n",
      "1   62mP7  14.272088  -3.475083  0.999183   26.953261\n",
      "2   vyE1P   6.263187  -5.948386  5.001160  134.766305\n",
      "3   KcrkZ -13.081196 -11.506057  4.999415  137.945408\n",
      "4   AHL4O  12.702195  -8.147433  5.004363  134.766305\n",
      "5   HHckp  -3.327590  -2.205276  3.003647   84.038886\n",
      "6   h5Ujo -11.142655 -10.133399  4.002382  110.992147\n",
      "7   muH9x   4.234715  -0.001354  2.004588   53.906522\n",
      "8   YiRkx  13.355129  -0.332068  4.998647  134.766305\n",
      "9   jG6Gi   1.069227 -11.025667  4.997844  137.945408\n",
      "10  7uHUe  11.777049  -5.334084  2.003033   53.906522\n",
      "11  OXyvW  16.320755  -0.562946 -0.001783    0.000000\n",
      "12  cB8re   7.736313  -6.093374  3.982531  107.813044\n",
      "13  igmai   6.695604  -0.749449 -0.007630    0.000000\n",
      "14  3OdkE -10.985487  -5.605994  2.991130   84.038886\n",
      "\n",
      "df_2:\n",
      "       id        f0        f1        f2     product\n",
      "0   fwXo0 -1.146987  0.963328 -0.828965   27.758673\n",
      "1   WJtFt  0.262778  0.269839 -2.530187   56.069697\n",
      "2   ovLUW  0.194587  0.289035 -5.586433   62.871910\n",
      "3   q6cA6  2.236060 -0.553760  0.930038  114.572842\n",
      "4   WPMUX -0.515993  1.716266  5.899011  149.600746\n",
      "5   LzZXx -0.758092  0.710691  2.585887   90.222465\n",
      "6   WBHRv -0.574891  0.317727  1.773745   45.641478\n",
      "7   XO8fn -1.906649 -2.458350 -0.177097   72.480640\n",
      "8   ybmQ5  1.776292 -0.279356  3.004156  106.616832\n",
      "9   OilcN -1.214452 -0.439314  5.922514   52.954532\n",
      "10  myq2g  0.628659 -2.120049  5.362437  166.799132\n",
      "11  V9R1y -0.544565  0.039088  8.635293  150.859435\n",
      "12  bKDo0 -0.960453 -0.127113  7.764734   96.910855\n",
      "13  eXvhs  1.432891 -1.242074  3.557168    8.704162\n",
      "14  wI4j3 -0.935464  2.420523  1.150536  116.829811\n",
      "\n"
     ]
    }
   ],
   "source": [
    "datasets = [df_0, df_1, df_2]\n",
    "\n",
    "for i in range(len(datasets)):\n",
    "    print('df_' + str(i) + ':')\n",
    "    print(datasets[i].head(15))\n",
    "    print()"
   ]
  },
  {
   "cell_type": "markdown",
   "metadata": {},
   "source": [
    "#### 3.2. Caracteristicas de datos\n",
    "\n",
    "Usamos el metodo .info() para obtener las caracteristicas de los datos."
   ]
  },
  {
   "cell_type": "code",
   "execution_count": 270,
   "metadata": {},
   "outputs": [
    {
     "name": "stdout",
     "output_type": "stream",
     "text": [
      "df_0:\n",
      "<class 'pandas.core.frame.DataFrame'>\n",
      "RangeIndex: 100000 entries, 0 to 99999\n",
      "Data columns (total 5 columns):\n",
      " #   Column   Non-Null Count   Dtype  \n",
      "---  ------   --------------   -----  \n",
      " 0   id       100000 non-null  object \n",
      " 1   f0       100000 non-null  float64\n",
      " 2   f1       100000 non-null  float64\n",
      " 3   f2       100000 non-null  float64\n",
      " 4   product  100000 non-null  float64\n",
      "dtypes: float64(4), object(1)\n",
      "memory usage: 3.8+ MB\n",
      "None\n",
      "\n",
      "df_1:\n",
      "<class 'pandas.core.frame.DataFrame'>\n",
      "RangeIndex: 100000 entries, 0 to 99999\n",
      "Data columns (total 5 columns):\n",
      " #   Column   Non-Null Count   Dtype  \n",
      "---  ------   --------------   -----  \n",
      " 0   id       100000 non-null  object \n",
      " 1   f0       100000 non-null  float64\n",
      " 2   f1       100000 non-null  float64\n",
      " 3   f2       100000 non-null  float64\n",
      " 4   product  100000 non-null  float64\n",
      "dtypes: float64(4), object(1)\n",
      "memory usage: 3.8+ MB\n",
      "None\n",
      "\n",
      "df_2:\n",
      "<class 'pandas.core.frame.DataFrame'>\n",
      "RangeIndex: 100000 entries, 0 to 99999\n",
      "Data columns (total 5 columns):\n",
      " #   Column   Non-Null Count   Dtype  \n",
      "---  ------   --------------   -----  \n",
      " 0   id       100000 non-null  object \n",
      " 1   f0       100000 non-null  float64\n",
      " 2   f1       100000 non-null  float64\n",
      " 3   f2       100000 non-null  float64\n",
      " 4   product  100000 non-null  float64\n",
      "dtypes: float64(4), object(1)\n",
      "memory usage: 3.8+ MB\n",
      "None\n",
      "\n"
     ]
    }
   ],
   "source": [
    "datasets = [df_0, df_1, df_2]\n",
    "\n",
    "for i in range(len(datasets)):\n",
    "    print('df_' + str(i) + ':')\n",
    "    print(datasets[i].info())\n",
    "    print()"
   ]
  },
  {
   "cell_type": "markdown",
   "metadata": {},
   "source": [
    "Parece que no es necesario realizar ningún procesamiento previo después de revisar las vistas previas y los resúmenes del conjunto de datos. No faltan valores y parece que el tipo de datos de cada columna es correcto. No modificaremos los datos de ninguna manera a medida que avanzamos.\n",
    "\n",
    "Cabe señalar que los nombres de las columnas no son en absoluto descriptivos. OilyGiant Mining Corporation respondió que, como las características ya se habían preparado para el entrenamiento del modelo, su significado preciso era irrelevante para la tarea en cuestión."
   ]
  },
  {
   "cell_type": "markdown",
   "metadata": {},
   "source": [
    "#### 3.3 Pre procesamiento de datos:\n",
    "\n",
    "Cabe señalar que cada uno de los tres conjuntos de datos contiene una cadena de identificación individual para cada recurso petrolero en la columna `id`. Como los valores de la columna `id` son cadenas, un modelo de regresión lineal no puede utilizarlos. Por lo tanto, es mejor eliminar la columna `id` de cada uno de los tres conjuntos de datos antes de comenzar a entrenar los modelos. El bloque de celdas a continuación eliminará la columna `id` de las tres columnas."
   ]
  },
  {
   "cell_type": "code",
   "execution_count": 271,
   "metadata": {},
   "outputs": [],
   "source": [
    "df_0 = df_0.drop('id', axis=1)\n",
    "df_1 = df_1.drop('id', axis=1)\n",
    "df_2 = df_2.drop('id', axis=1)"
   ]
  },
  {
   "cell_type": "markdown",
   "metadata": {},
   "source": [
    "## 4.- MODELAMIENTO"
   ]
  },
  {
   "cell_type": "markdown",
   "metadata": {},
   "source": [
    "### 4.1 Division de los conjuntos de datos:"
   ]
  },
  {
   "cell_type": "markdown",
   "metadata": {},
   "source": [
    "Ahora, dividamos los datos, ya que cada conjunto de datos solo contiene valores numéricos. Se creará un conjunto de datos de entrenamiento y un conjunto de datos de validación a partir de cada conjunto de datos. Cada conjunto de datos de entrenamiento se comparará con cada conjunto de datos de validación en una proporción de 3:1. Por lo tanto, el conjunto de datos de validación contendrá el 25 % de los datos totales, mientras que el conjunto de datos de entrenamiento para cada región tendrá el 75 %. El bloque de celdas a continuación utilizará la función `train test split` del módulo `sklearn.model selection` para dividir los datos según las instrucciones."
   ]
  },
  {
   "cell_type": "code",
   "execution_count": 272,
   "metadata": {},
   "outputs": [],
   "source": [
    "# Crear los conjuntos de datos de entrenamiento, validación y prueba.\n",
    "# Los conjuntos de datos se dividirán en un 75% y un 25% para una proporción de 3:1 entre los conjuntos de datos de entrenamiento y validación.\n",
    "\n",
    "# Inicializando las características de DataFrame para cada región\n",
    "df_0_features = df_0.drop('product', axis=1)\n",
    "df_1_features = df_1.drop('product', axis=1)\n",
    "df_2_features = df_2.drop('product', axis=1)\n",
    "\n",
    "# Inicializando los objetivos de DataFrame para cada región\n",
    "df_0_target = df_0['product']\n",
    "df_1_target = df_1['product']\n",
    "df_2_target = df_2['product']\n",
    "\n",
    "# Divida los conjuntos de datos de características y destino para cada DataFrame en conjuntos de datos de entrenamiento y validación\n",
    "# El tamaño de prueba será 0,25 para que el conjunto de datos de validación contenga el 25 % de los datos.\n",
    "# y el conjunto de datos de entrenamiento contiene el 75% de los datos\n",
    "features_train_0, features_valid_0, target_train_0, target_valid_0 = train_test_split(df_0_features, df_0_target, test_size=0.25)\n",
    "features_train_1, features_valid_1, target_train_1, target_valid_1 = train_test_split(df_1_features, df_1_target, test_size=0.25)\n",
    "features_train_2, features_valid_2, target_train_2, target_valid_2 = train_test_split(df_2_features, df_2_target, test_size=0.25)"
   ]
  },
  {
   "cell_type": "markdown",
   "metadata": {},
   "source": [
    "### 4.5 Entrenamiento del modelo de Regresion lineal"
   ]
  },
  {
   "cell_type": "markdown",
   "metadata": {},
   "source": [
    "##### Regresión Lineal:\n",
    "`Objetivo:`\n",
    "Estimar una relación lineal entre una variable dependiente $𝑦$ y y una o más variables independientes $x_{1}, x_{2}, ..., x_{n}$\n",
    "\n",
    "`Modelo:`\n",
    "La fórmula general de la regresión lineal es: \n",
    "\n",
    "\n",
    "\\begin{align}\n",
    "y = \\beta_{0}\\beta_{0} + \\beta_{1}x_{1} + \\beta_{2}x_{2} + ... +  \\beta_{n}x_{n} + e\n",
    "\\end{align}\n",
    "\n",
    "Donde:\n",
    "- $𝑦$ es la variable dependiente (continua).\n",
    "- $\\beta_{0}$ es el intercepto.\n",
    "- $\\beta_{1}, \\beta_{2}, ..., \\beta_{n}$ son los coeficientes.\n",
    "- $e$ es el término de error.\n",
    "\n",
    "`Salida:`\n",
    "La regresión lineal predice valores continuos para $𝑦$"
   ]
  },
  {
   "cell_type": "markdown",
   "metadata": {},
   "source": [
    "Ahora que los conjuntos de datos de entrenamiento y validación se han dividido para cada conjunto de datos regional, ¡finalmente es hora de entrenar los modelos! Nuevamente, se entrenará un modelo para cada conjunto de datos regional. El modelo de elección será un modelo de regresión lineal, ya que estamos tratando de predecir/calcular un número preciso en un rango continuo. Dado que las posibilidades son mucho más numerosas que solo **0** o **1**, esta no es una tarea de clasificación binaria, por lo que la regresión logística no es un modelo de elección precisa para esta aplicación. Las celdas a continuación inicializarán un modelo de regresión lineal, ajustarán el modelo, predecirán los valores objetivo para el conjunto de datos de validación y luego generarán el volumen promedio de las reservas de petróleo previstas y el error cuadrático medio."
   ]
  },
  {
   "cell_type": "markdown",
   "metadata": {},
   "source": [
    "#### 4.5.1 Conjunto de datos 'geo_data_0':"
   ]
  },
  {
   "cell_type": "code",
   "execution_count": 273,
   "metadata": {},
   "outputs": [
    {
     "name": "stdout",
     "output_type": "stream",
     "text": [
      "Volumen promedio de reservas previstas: 92.706 mil barriles\n",
      "RMSE del modelo de Regresion Lineal del conjunto de validacion_0: 37.951\n"
     ]
    }
   ],
   "source": [
    "# Crear una instancia de un modelo de regresión logística\n",
    "model = LinearRegression()\n",
    "\n",
    "# Ajuste el modelo utilizando los datos de entrenamiento\n",
    "model.fit(features_train_0, target_train_0)\n",
    "\n",
    "# Predecir los valores objetivo de las características de validación\n",
    "predicted_valid_0 = model.predict(features_valid_0)\n",
    "\n",
    "# Calcular e imprimir el volumen promedio de reservas previstas y modelar RMSE\n",
    "result = mean_squared_error(target_valid_0, predicted_valid_0)**0.5\n",
    "print(f\"Volumen promedio de reservas previstas: {round(predicted_valid_0.mean(),3)} mil barriles\")\n",
    "print(\"RMSE del modelo de Regresion Lineal del conjunto de validacion_0:\", round(result,3))"
   ]
  },
  {
   "cell_type": "markdown",
   "metadata": {},
   "source": [
    "La cantidad promedio de reservas de petróleo previstas es de 92 mil barriles. El `error cuadrático medio RMSE` del modelo de regresión lineal es de alrededor de 37. Esto indica que la desviación estándar de los valores esperados podría alcanzar los 37.000 barriles."
   ]
  },
  {
   "cell_type": "markdown",
   "metadata": {},
   "source": [
    "#### 4.5.2 Conjunto de datos 'geo_data_1':"
   ]
  },
  {
   "cell_type": "code",
   "execution_count": 274,
   "metadata": {},
   "outputs": [
    {
     "name": "stdout",
     "output_type": "stream",
     "text": [
      "Volumen promedio de reservas previstas: 68.462 mil barriles\n",
      "RMSE del modelo de Regresion Lineal del conjunto de validacion_1: 0.89\n"
     ]
    }
   ],
   "source": [
    "# Crear una instancia de un modelo de regresión logística\n",
    "model = LinearRegression()\n",
    "\n",
    "# Ajuste el modelo utilizando los datos de entrenamiento\n",
    "model.fit(features_train_1, target_train_1)\n",
    "\n",
    "# Predecir los valores objetivo de las características de validación\n",
    "predicted_valid_1 = model.predict(features_valid_1)\n",
    "\n",
    "# Calcular e imprimir el volumen promedio de reservas previstas y modelar RMSE\n",
    "result = mean_squared_error(target_valid_1, predicted_valid_1)**0.5\n",
    "print(f\"Volumen promedio de reservas previstas: {round(predicted_valid_1.mean(),3)} mil barriles\")\n",
    "print(\"RMSE del modelo de Regresion Lineal del conjunto de validacion_1:\", round(result,3))"
   ]
  },
  {
   "cell_type": "markdown",
   "metadata": {},
   "source": [
    "El `volumen promedio` de las reservas de petróleo estimadas es de `68 mil barriles`. El modelo de regresión lineal tiene un `error cuadrático medio RMSE de aproximadamente 0,8`. Esto significa que los valores previstos pueden variar hasta en 0,9 mil barriles. ¡Ese valor RMSE es extremadamente bajo! Debido a que la variación en los volúmenes de reservas de petróleo es tan pequeña, la gran mayoría de las reservas estarán cerca del promedio de 68."
   ]
  },
  {
   "cell_type": "markdown",
   "metadata": {},
   "source": [
    "#### 4.5.3 Conjunto de datos 'geo_data_2':"
   ]
  },
  {
   "cell_type": "code",
   "execution_count": 275,
   "metadata": {},
   "outputs": [
    {
     "name": "stdout",
     "output_type": "stream",
     "text": [
      "Volumen promedio de reservas previstas: 94.864 mil barriles\n",
      "RMSE del modelo de Regresion Lineal del conjunto de validacion_2: 40.007\n"
     ]
    }
   ],
   "source": [
    "# Crear una instancia de un modelo de regresión logística\n",
    "model = LinearRegression()\n",
    "\n",
    "# Ajuste el modelo utilizando los datos de entrenamiento\n",
    "model.fit(features_train_2, target_train_2)\n",
    "\n",
    "# Predecir los valores objetivo de las características de validación\n",
    "predicted_valid_2 = model.predict(features_valid_2)\n",
    "\n",
    "# Calcular e imprimir el volumen promedio de reservas previstas y modelar RMSE\n",
    "result = mean_squared_error(target_valid_2, predicted_valid_2)**0.5\n",
    "print(f\"Volumen promedio de reservas previstas: {round(predicted_valid_2.mean(),3)} mil barriles\")\n",
    "print(\"RMSE del modelo de Regresion Lineal del conjunto de validacion_2:\", round(result,3))"
   ]
  },
  {
   "cell_type": "markdown",
   "metadata": {},
   "source": [
    "El `volumen promedio` estimado de reservas de petróleo es de `94 mil barriles`. El error cuadrático medio del modelo de regresión lineal es de aproximadamente 40. Esto significa que los valores previstos pueden variar hasta en 40 mil barriles. Este es un valor RMSE bastante grande. De hecho, tiene el RMSE más alto de los tres. Los volúmenes estimados de reservas de petróleo podrían desviarse significativamente del promedio de 94."
   ]
  },
  {
   "cell_type": "markdown",
   "metadata": {},
   "source": [
    "#### 4.5.4 Resumen\n",
    "\n",
    "`Las regiones 0 y 2 tienen un valor RSME alto`, lo que significa que el error es alto por lo que `la exactitud no es buena`, especialmente cuando se `comparan con la región 1`. Esto significa que los `volúmenes de reservas `de petróleo en las regiones 0 y 2 son muy variables, mientras que los de la `región 1 son más predecibles`. Además, el volumen promedio de reservas de petróleo en las regiones 0 y 2 es aproximadamente 1,4 veces el de la región 1. Será interesante observar los resultados del análisis de ganancias para cada región, ya que las regiones 0 y 2 pueden generar ganancias significativamente mayores en función de la distribución de sus reservas de petróleo. La región 1, por otro lado, es más probable que produzca un rango de ganancias más preciso."
   ]
  },
  {
   "cell_type": "markdown",
   "metadata": {},
   "source": [
    "## 5.- CALCULO DE BENEFICIOS"
   ]
  },
  {
   "cell_type": "markdown",
   "metadata": {},
   "source": [
    "#### 5.1. Determinar la producción mínima de petróleo necesaria para alcanzar el punto de equilibrio.\n",
    "\n",
    "Para comenzar a analizar las ganancias potenciales de cada región, primero calculemos cuántos miles de barriles de petróleo se necesitan para garantizar que la empresa minera OilyGiant no esté construyendo/operando con pérdidas. El bloque de celdas a continuación calculará la cantidad de unidades, o miles de barriles, que el volumen de reserva de petróleo debe proporcionar para que OilyGiant obtenga ganancias. Este cálculo se realiza dividiendo el presupuesto total de OilyGiant (100.000.000 USD) para la construcción de 200 pozos de petróleo por los ingresos generados por una unidad (4.500 USD) de petróleo."
   ]
  },
  {
   "cell_type": "code",
   "execution_count": 276,
   "metadata": {},
   "outputs": [
    {
     "name": "stdout",
     "output_type": "stream",
     "text": [
      "En total se requieren 22222.222 mil barriles para evitar construir/operar sin pérdidas.\n",
      "Se requieren aproximadamente 111.111 mil barriles por reserva.\n"
     ]
    }
   ],
   "source": [
    "# Inicializar variables constantes\n",
    "# Los ingresos por unidad son de 4.500 USD (mil barriles)\n",
    "# El presupuesto para el desarrollo de 200 pozos petroleros es de 100.000.000 dólares.\n",
    "# Los ingresos de 200 pozos petroleros deben superar los 100.000.000 de dólares\n",
    "presupuesto = 100000000 # presupuesto 100 millones\n",
    "pozos_proyectados = 200\n",
    "ingreso_unidad = 4500 #volumen de reservas está expresado en miles de barriles\n",
    "\n",
    "# Volumen de reservas necesarias para desarrollar un nuevo pozo sin pérdidas:\n",
    "sufficient_volume = presupuesto/ingreso_unidad\n",
    "\n",
    "# Imprima los resultados\n",
    "print(f\"En total se requieren {round(sufficient_volume,3)} mil barriles para evitar construir/operar sin pérdidas.\")\n",
    "print(f\"Se requieren aproximadamente {round((sufficient_volume / pozos_proyectados), 3)} mil barriles por reserva.\")"
   ]
  },
  {
   "cell_type": "markdown",
   "metadata": {},
   "source": [
    "Con base en los cálculos anteriores, es necesario extraer un mínimo de aproximadamente `22222.222 mil barriles = 22.2 millones de barriles` de petróleo del nuevo pozo para asegurar que OilyGiant no sufra ninguna pérdida en la construcción u operación del pozo. Esto se traduce en un mínimo de alrededor de 111.11 mil barriles de cada reserva en el área. Como es evidente, `los volúmenes de reservas de petróleo promedio proyectados para las tres regiones, como se modela en la Sección 4, son menores a los 111.11 mil barriles por reserva`. Sin embargo, tomando en cuenta el `RMSE de la Región 0 y la Región 2`, es seguro que hay volúmenes de reservas de petróleo que `superan el valor de 111.11`. Desafortunadamente, la `Región 1` tiene menos reservas de petróleo que superan el volumen de 111.11, ya que el volumen de `reserva de petróleo promedio es de alrededor de `68.66 mil barriles`, y el RMSE es de aproximadamente 0.887. Sin embargo, si OilyGiant logra extraer petróleo de los 200 principales pozos petroleros de la Región 1, existe una mayor posibilidad de obtener ganancias en lugar de incurrir en pérdidas al final del año."
   ]
  },
  {
   "cell_type": "markdown",
   "metadata": {},
   "source": [
    "#### 5.2. Calcular el beneficio potencial a partir de los valores previstos\n",
    "\n",
    "Calculemos las ganancias que OilyGiant podría obtener en función de los volúmenes de reservas de petróleo previstos de cada región. Para ello, se desarrollará una función que acepte las predicciones de volumen y el tamaño de muestra de los pozos de petróleo de cada región como argumentos. La función utilizará los 200 pozos de petróleo más grandes de cada región para calcular las ganancias de OilyGiant. Primero, las predicciones de cada región se ordenarán en orden descendente y luego se extraerán los 200 valores más importantes de la serie de predicciones. Estos 200 valores se sumarán para obtener un total, que luego se multiplicará por 4500 USD para obtener los ingresos totales. Finalmente, para obtener la cifra de ganancias final, se restará el presupuesto de OilyGiant del producto del volumen total de reservas y los ingresos por unidad. Además, se mostrará la cantidad objetivo de barriles de petróleo que se deben producir junto con las ganancias que OilyGiant puede anticipar."
   ]
  },
  {
   "cell_type": "code",
   "execution_count": 277,
   "metadata": {},
   "outputs": [
    {
     "name": "stdout",
     "output_type": "stream",
     "text": [
      "Beneficio de la región 0: $36,132,948.89\n",
      "Volumen objetivo de reserva de petróleo: 30251.77 mil barriles\n",
      "\n",
      "Beneficio de la región 1: $24,150,866.97\n",
      "Volumen objetivo de reserva de petróleo: 27589.08 mil barriles\n",
      "\n",
      "Beneficio de la región 2: $26,266,615.53\n",
      "Volumen objetivo de reserva de petróleo: 28059.25 mil barriles\n",
      "\n"
     ]
    }
   ],
   "source": [
    "# Crear una función para calcular el beneficio a partir de los valores objetivo previstos de cada región\n",
    "\n",
    "# Función de inicialización: toma 'predicciones' y 'contar' como parámetros\n",
    "def get_profit(targets, predictions, count):\n",
    "    # Ordenar los volúmenes previstos del mayor al menor, cantidad de filas `count`\n",
    "    predictions_sorted = predictions.sort_values(ascending=False)[:count]\n",
    "    \n",
    "    # Seleccionar los 200 volúmenes de reserva de petróleo más grandes para cada región, pero utilizar los volúmenes objetivo (volúmenes reales)\n",
    "    pozos_seleccionados = targets[predictions_sorted.index]\n",
    "    \n",
    "    # Calcular la ganancia basada en que una unidad produzca un ingreso de $4,500\n",
    "    # Restar el presupuesto de $100.000.000 de los ingresos totales\n",
    "    ganancia = (4500 * pozos_seleccionados.sum()) - presupuesto\n",
    "    \n",
    "    # Devolver el valor de la ganancia\n",
    "    return round(ganancia, 2)\n",
    "\n",
    "\n",
    "# Ejecute la siguiente función...\n",
    "\n",
    "# Crear una lista de los valores previstos y los valores reales (objetivos) para cada región\n",
    "predictions = [pd.Series(predicted_valid_0), pd.Series(predicted_valid_1), pd.Series(predicted_valid_2)]\n",
    "targets = [target_valid_0.reset_index(drop=True) , target_valid_1.reset_index(drop=True), target_valid_2.reset_index(drop=True)]\n",
    "profits = []\n",
    "\n",
    "# Bucle for para ejecutar la función get_profit para los conjuntos de datos previstos de cada región\n",
    "# Almacenar valores de ganancias en la lista de ganancias\n",
    "for i in range(len(predictions)):\n",
    "    profits.append(get_profit(targets[i], predictions[i], 200))\n",
    "\n",
    "# Establezca la moneda local en USD\n",
    "locale.setlocale(locale.LC_ALL, '')\n",
    "    \n",
    "# Imprima cada valor de ganancia\n",
    "for i in range(len(profits)):\n",
    "    print(f\"Beneficio de la región {i}: {locale.currency(profits[i], grouping=True)}\")\n",
    "    print(f\"Volumen objetivo de reserva de petróleo: {round((profits[i] + 100_000_000) / 4500,2)} mil barriles\\n\")"
   ]
  },
  {
   "cell_type": "markdown",
   "metadata": {},
   "source": [
    "El ranking de cada región según sus ganancias calculadas y los volúmenes de reservas de petróleo previstos es la siguiente:\n",
    "\n",
    "- `1. Región 0` - `Beneficio`: $36 millones, `Volumen`: aprox. 30 millones de barriles\n",
    "- `2. Región 2` - `Beneficio`: $26 millones, `Volumen`: aprox. 28 millones de barriles\n",
    "- `3. Región 1` - `Beneficio`: $24 millones, `Volumen`: aprox. 27 millones de barriles\n",
    "\n",
    "Como se puede observar a partir de las ganancias calculadas anteriormente, la Región 0 generó las mayores ganancias, seguida por la Región 2 y luego la Región 1. Las tres regiones generaron ganancias en lugar de pérdidas. \n",
    "\n",
    "`Los volúmenes de reservas de petróleo proyectados son todos superiores a los aproximadamente 22,2 millones de barriles` necesarios para que OilyGiant alcance el punto de equilibrio, por lo que `se proyecta que cada región generará una ganancia para OilyGiant`. A pesar de esperar que la Región 1 produzca menos barriles, parece contener algunas reservas de petróleo muy grandes, ya que produjo una ganancia, requiriendo al menos 200 de ellos. Aunque tanto la Región 1 como la Región 2 generaron ganancias para OilyGiant, `la Región 0 generó la mayor ganancia prevista de más de 36 millones de dólares`. Por lo tanto, basándose únicamente en estas estimaciones, `OilyGiant debería construir su nuevo pozo de petróleo en la Región 0`. Sin embargo, dado que dependemos de las mayores reservas previstas, que pueden no materializarse cuando OilyGiant construya su nuevo pozo, es fundamental examinar las distribuciones de las ganancias promedio para cada región, que se tratarán en la sección siguiente."
   ]
  },
  {
   "cell_type": "markdown",
   "metadata": {},
   "source": [
    "## 6.- APLICACION DE METODO BOOTSTRAPPING PARA LA DETERMINACION DE LA REGION MAS RENTABLE"
   ]
  },
  {
   "cell_type": "markdown",
   "metadata": {},
   "source": [
    "Aunque determinar las ganancias generadas por las predicciones de las principales reservas de petróleo es un punto de partida útil para identificar la región más rentable, no proporciona una imagen completa. Al seleccionar las 200 mayores reservas de petróleo de cada región, obtuvimos la máxima ganancia potencial. Para obtener una comprensión más precisa de la rentabilidad de cada región, construyamos una distribución de valores de ganancia promedio para cada región. Para ello, pasaremos 1000 muestras de 500 pozos de petróleo a la función `get_profit`. La función calculará entonces la ganancia anticipada, como se hizo anteriormente, y guardará el valor de la ganancia en la lista `values`. Una vez que se haya obtenido la distribución, determinaremos la ganancia promedio, el intervalo de confianza del 95% y el riesgo de pérdida para cada región."
   ]
  },
  {
   "cell_type": "code",
   "execution_count": 286,
   "metadata": {
    "scrolled": true
   },
   "outputs": [
    {
     "name": "stdout",
     "output_type": "stream",
     "text": [
      "Region 0\n",
      "Ganancia promedio: $4,481,215.04\n",
      "Volumen objetivo de reserva de petróleo: 23218.05 mil barriles\n",
      "Intervalo de Confianza del 95%: $-935,430.13 to $9,297,603.29\n",
      "Riesgo de pérdida: 4.4%\n",
      "\n",
      "Region 1\n",
      "Ganancia promedio: $4,140,035.54\n",
      "Volumen objetivo de reserva de petróleo: 23142.23 mil barriles\n",
      "Intervalo de Confianza del 95%: $464,983.91 to $7,901,953.60\n",
      "Riesgo de pérdida: 1.5%\n",
      "\n",
      "Region 2\n",
      "Ganancia promedio: $3,451,073.19\n",
      "Volumen objetivo de reserva de petróleo: 22989.13 mil barriles\n",
      "Intervalo de Confianza del 95%: $-1,849,621.28 to $8,548,610.06\n",
      "Riesgo de pérdida: 11.0%\n",
      "\n"
     ]
    }
   ],
   "source": [
    "# Utilice el método bootstrap con 1000 muestras para encontrar la distribución de ganancias\n",
    "# Recopilar una distribución de ganancias promedio para cada región en función de las muestras\n",
    "\n",
    "def get_profit_distribution(targets, predictions, count):\n",
    "    # Inicializar el estado aleatorio\n",
    "    state = np.random.RandomState(88888)\n",
    "    \n",
    "    # Inicializar la lista de valores\n",
    "    values = []\n",
    "    \n",
    "    # Cree un DataFrame que consta de las series de predicciones y objetivos.\n",
    "    combined_df = pd.DataFrame()\n",
    "    combined_df['predictions'] = predictions\n",
    "    combined_df['targets'] = targets.reset_index(drop=True)\n",
    "    \n",
    "    # Bucle for para obtener 1000 muestras y pasarlas a la función get_profit\n",
    "    for i in range(1000):\n",
    "        target_subsample = combined_df.sample(n=500, replace=True, random_state=state).reset_index(drop=True)\n",
    "        values.append(get_profit(target_subsample['targets'], target_subsample['predictions'], count))\n",
    "    \n",
    "    # Convierte la lista de valores en una serie de pandas\n",
    "    values = pd.Series(values)\n",
    "    \n",
    "    # Calcular la media de las ganancias\n",
    "    media_ganancia = values.mean()\n",
    "    \n",
    "    # Obtener los límites superior e inferior del intervalo de confianza del 95%\n",
    "    superior = values.quantile(0.975)\n",
    "    inferior = values.quantile(0.025)\n",
    "    \n",
    "    # Determinar la probabilidad de ganancia (pérdida) negativa\n",
    "    count = 0\n",
    "    for value in values:\n",
    "        if value < 0:\n",
    "            count += 1\n",
    "            \n",
    "    print(\"Ganancia promedio:\", locale.currency(media_ganancia, grouping=True))\n",
    "    print(f\"Volumen objetivo de reserva de petróleo: {round((media_ganancia + 100_000_000) / 4500,2)} mil barriles\")\n",
    "    print(\"Intervalo de Confianza del 95%:\", locale.currency(inferior, grouping=True), 'to', locale.currency(superior, grouping=True))\n",
    "    print(f\"Riesgo de pérdida: {1. * count * 100 / len(values)}%\")\n",
    "\n",
    "for i in range(len(predictions)):\n",
    "    print('Region ' + str(i))\n",
    "    get_profit_distribution(targets[i], predictions[i], 200)\n",
    "    print()"
   ]
  },
  {
   "cell_type": "markdown",
   "metadata": {},
   "source": [
    "`Las regiones 0 y 2 superan el umbral de riesgo de pérdida aceptable del 2.5 %,` lo que las hace inadecuadas para el nuevo pozo de OilyGiant. Solo `la región 1 tiene un porcentaje de riesgo de pérdida inferior al 2,5 %`, lo que la convierte en la única región que cumple con los criterios de riesgo y puede considerarse para la ubicación del nuevo pozo de OilyGiant.\n",
    "\n",
    "`La ganancia promedio obtenida para cada región a través de una distribución de 1000 muestras aleatorias es menor que la ganancia estimada a partir de las 200 reservas de petróleo más grandes de cada región`. Sin embargo, esto era de esperar. La Región 1 y la Región 2 tienen ganancias promedio relativamente altas, y la Región 2 tiene una ganancia promedio ligeramente menor. Por lo tanto, junto con el criterio de riesgo de pérdida, `s`e recomienda que OilyGiant construya su nuevo pozo en la Región 1`, que tiene una de las ganancias promedio más altas."
   ]
  },
  {
   "cell_type": "markdown",
   "metadata": {},
   "source": [
    "## 7.- CONCLUSIONES"
   ]
  },
  {
   "cell_type": "markdown",
   "metadata": {},
   "source": [
    "Iniciamos entrenando el modelo de regresion lineal con los dataset de cada región para `predecir los volumenes promedio de reservas` y el RMSE de cada conjunto de validacion de cada dataset.`Obteniendo que la region 1 geo_data_1` tiene un `modelo mas exacto pero un volumen promedio menor a la region 0 y 2`.\n",
    "\n",
    "Luego `calculamos las ganancias asociadas a los 200 pozos` con valores predichos mas altos y `se obtuvo que la region 0 (geo_data_0)` obtuvo un `Beneficio`: $36 millones, `Volumen`: aprox. 30 millones de barriles, siendo el beneficio de la region 0 mayor a las regiones 1 y 2, ademas que se superan los volumenes de reservas proyectadas de 22 millones de barriles.  Si bien este fue un buen punto de partida para el análisis, `se necesitaron más muestras para lograr una mayor precisión`. \n",
    "\n",
    "Para mejorar la precision de nuestro modelos `se utilizó el método bootstrap para obtener 1000 muestras y determinar la distribución de las ganancias para cada región`. Utilizando `la ganancia promedio resultante`, `el intervalo de confianza del 95%` y los `valores de riesgo de pérdida`, concluyendo que la `Región 1` es la `ubicación más adecuada`, debido a que la region 0 y 2 superan el umbral de riesgo de perdida del 2.5%, ademas que el beneficio inferior y superior del intervalo de confianza es positiva a diferencia de las otras regiones. \n",
    "\n",
    "Por lo que concluimos que la `region 1` es la mejor region para para que OilyGiant Mining Company construya su nuevo pozo petrolero, se toma esta decision a pesar de inicialmente se penso que la `region 0` era la de mayor beneficio pero su modelo presentaba alto RMSE, por lo que `luego de la aplicacion del metodo bootstrap la region 1` que mejora la precision del modelo se obtuvo una ganancia promedio mayor y un riesgo de perdida menor al solicitado.\n",
    "\n",
    "\n",
    "\n",
    "\n"
   ]
  }
 ],
 "metadata": {
  "ExecuteTimeLog": [
   {
    "duration": 1242,
    "start_time": "2022-06-12T20:10:19.208Z"
   },
   {
    "duration": 4,
    "start_time": "2022-06-12T20:10:25.149Z"
   },
   {
    "duration": 10,
    "start_time": "2022-06-12T20:12:49.309Z"
   },
   {
    "duration": 12,
    "start_time": "2022-06-12T20:12:55.384Z"
   },
   {
    "duration": 843,
    "start_time": "2022-06-12T20:13:04.268Z"
   },
   {
    "duration": 181,
    "start_time": "2022-06-12T20:13:18.201Z"
   },
   {
    "duration": 58,
    "start_time": "2022-06-12T20:13:25.852Z"
   },
   {
    "duration": 449,
    "start_time": "2022-06-12T20:13:32.075Z"
   },
   {
    "duration": 616,
    "start_time": "2022-06-12T20:13:47.320Z"
   },
   {
    "duration": 427,
    "start_time": "2022-06-12T20:13:59.217Z"
   },
   {
    "duration": 2,
    "start_time": "2022-06-12T20:16:08.811Z"
   },
   {
    "duration": 13,
    "start_time": "2022-06-12T20:17:20.344Z"
   },
   {
    "duration": 70,
    "start_time": "2022-06-12T20:17:52.156Z"
   },
   {
    "duration": 16,
    "start_time": "2022-06-12T20:18:00.914Z"
   },
   {
    "duration": 27,
    "start_time": "2022-06-12T20:18:22.279Z"
   },
   {
    "duration": 34,
    "start_time": "2022-06-12T20:19:03.419Z"
   },
   {
    "duration": 5,
    "start_time": "2022-06-12T20:37:59.051Z"
   },
   {
    "duration": 32,
    "start_time": "2022-06-12T20:40:28.038Z"
   },
   {
    "duration": 8,
    "start_time": "2022-06-12T20:40:45.210Z"
   },
   {
    "duration": 9,
    "start_time": "2022-06-12T20:53:00.183Z"
   },
   {
    "duration": 57,
    "start_time": "2022-06-12T20:53:55.187Z"
   },
   {
    "duration": 3,
    "start_time": "2022-06-12T21:12:06.263Z"
   },
   {
    "duration": 419,
    "start_time": "2022-06-12T21:12:07.156Z"
   },
   {
    "duration": 13,
    "start_time": "2022-06-12T21:12:09.741Z"
   },
   {
    "duration": 35,
    "start_time": "2022-06-12T21:12:11.992Z"
   },
   {
    "duration": 3,
    "start_time": "2022-06-12T21:12:16.932Z"
   },
   {
    "duration": 34,
    "start_time": "2022-06-12T21:12:17.777Z"
   },
   {
    "duration": 8,
    "start_time": "2022-06-12T21:12:21.962Z"
   },
   {
    "duration": 84,
    "start_time": "2022-06-12T21:12:27.135Z"
   },
   {
    "duration": 30,
    "start_time": "2022-06-12T21:12:33.770Z"
   },
   {
    "duration": 17,
    "start_time": "2022-06-12T21:13:00.666Z"
   },
   {
    "duration": 3,
    "start_time": "2022-06-12T21:13:08.656Z"
   },
   {
    "duration": 7,
    "start_time": "2022-06-12T21:13:09.000Z"
   },
   {
    "duration": 12,
    "start_time": "2022-06-12T21:13:09.513Z"
   },
   {
    "duration": 18,
    "start_time": "2022-06-12T21:13:20.250Z"
   },
   {
    "duration": 7,
    "start_time": "2022-06-12T21:13:57.494Z"
   },
   {
    "duration": 11,
    "start_time": "2022-06-12T21:13:59.427Z"
   },
   {
    "duration": 36,
    "start_time": "2022-06-12T21:14:01.678Z"
   },
   {
    "duration": 14,
    "start_time": "2022-06-12T21:14:03.348Z"
   },
   {
    "duration": 20,
    "start_time": "2022-06-12T21:14:27.163Z"
   },
   {
    "duration": 7,
    "start_time": "2022-06-12T21:14:47.381Z"
   },
   {
    "duration": 12,
    "start_time": "2022-06-12T21:14:58.011Z"
   },
   {
    "duration": 3,
    "start_time": "2022-06-12T21:16:59.649Z"
   },
   {
    "duration": 13,
    "start_time": "2022-06-12T21:18:17.166Z"
   },
   {
    "duration": 4,
    "start_time": "2022-06-12T21:18:21.200Z"
   },
   {
    "duration": 10,
    "start_time": "2022-06-12T21:18:25.515Z"
   },
   {
    "duration": 4,
    "start_time": "2022-06-12T21:18:38.888Z"
   },
   {
    "duration": 13,
    "start_time": "2022-06-12T21:18:41.940Z"
   },
   {
    "duration": 11,
    "start_time": "2022-06-12T21:18:52.799Z"
   },
   {
    "duration": 13,
    "start_time": "2022-06-12T21:18:59.046Z"
   },
   {
    "duration": 12,
    "start_time": "2022-06-12T21:19:05.513Z"
   },
   {
    "duration": 108,
    "start_time": "2022-06-12T21:20:13.257Z"
   },
   {
    "duration": 19,
    "start_time": "2022-06-12T21:20:34.791Z"
   },
   {
    "duration": 15,
    "start_time": "2022-06-12T21:20:47.565Z"
   },
   {
    "duration": 17,
    "start_time": "2022-06-12T21:21:06.839Z"
   },
   {
    "duration": 16,
    "start_time": "2022-06-12T21:21:21.191Z"
   },
   {
    "duration": 1203,
    "start_time": "2022-06-13T21:27:21.504Z"
   },
   {
    "duration": 1129,
    "start_time": "2022-06-13T21:27:23.983Z"
   },
   {
    "duration": 33,
    "start_time": "2022-06-13T21:27:26.374Z"
   },
   {
    "duration": 58,
    "start_time": "2022-06-13T21:27:39.879Z"
   },
   {
    "duration": 19,
    "start_time": "2022-06-13T21:27:54.997Z"
   },
   {
    "duration": 55,
    "start_time": "2022-06-13T21:27:57.165Z"
   },
   {
    "duration": 20,
    "start_time": "2022-06-13T21:28:14.115Z"
   },
   {
    "duration": 37,
    "start_time": "2022-06-13T21:28:18.686Z"
   },
   {
    "duration": 36,
    "start_time": "2022-06-13T21:28:22.775Z"
   },
   {
    "duration": 22,
    "start_time": "2022-06-13T21:28:24.783Z"
   },
   {
    "duration": 27,
    "start_time": "2022-06-13T21:29:28.874Z"
   },
   {
    "duration": 30,
    "start_time": "2022-06-13T21:30:00.241Z"
   },
   {
    "duration": 75,
    "start_time": "2022-06-13T21:30:35.790Z"
   },
   {
    "duration": 49,
    "start_time": "2022-06-13T21:31:33.744Z"
   },
   {
    "duration": 50,
    "start_time": "2022-06-13T21:31:36.943Z"
   },
   {
    "duration": 28,
    "start_time": "2022-06-13T21:31:40.535Z"
   },
   {
    "duration": 5,
    "start_time": "2022-06-13T22:00:50.719Z"
   },
   {
    "duration": 5,
    "start_time": "2022-06-13T22:01:41.692Z"
   },
   {
    "duration": 4,
    "start_time": "2022-06-13T22:01:45.051Z"
   },
   {
    "duration": 4,
    "start_time": "2022-06-13T22:25:23.678Z"
   },
   {
    "duration": 4,
    "start_time": "2022-06-13T22:26:58.817Z"
   },
   {
    "duration": 130,
    "start_time": "2022-06-13T22:27:42.920Z"
   },
   {
    "duration": 30,
    "start_time": "2022-06-13T22:28:58.576Z"
   },
   {
    "duration": 16,
    "start_time": "2022-06-13T22:29:19.479Z"
   },
   {
    "duration": 15,
    "start_time": "2022-06-13T22:29:26.014Z"
   },
   {
    "duration": 9,
    "start_time": "2022-06-13T22:29:53.824Z"
   },
   {
    "duration": 10,
    "start_time": "2022-06-13T22:30:07.049Z"
   },
   {
    "duration": 9,
    "start_time": "2022-06-13T22:30:19.241Z"
   },
   {
    "duration": 10,
    "start_time": "2022-06-13T22:30:28.411Z"
   },
   {
    "duration": 1259,
    "start_time": "2022-06-13T22:42:57.656Z"
   },
   {
    "duration": 443,
    "start_time": "2022-06-13T22:43:00.026Z"
   },
   {
    "duration": 19,
    "start_time": "2022-06-13T22:43:01.805Z"
   },
   {
    "duration": 49,
    "start_time": "2022-06-13T22:43:05.081Z"
   },
   {
    "duration": 27,
    "start_time": "2022-06-13T22:43:07.119Z"
   },
   {
    "duration": 49,
    "start_time": "2022-06-13T22:43:10.978Z"
   },
   {
    "duration": 41,
    "start_time": "2022-06-13T22:43:15.049Z"
   },
   {
    "duration": 28,
    "start_time": "2022-06-13T22:43:17.104Z"
   },
   {
    "duration": 20,
    "start_time": "2022-06-13T22:43:19.589Z"
   },
   {
    "duration": 5,
    "start_time": "2022-06-13T22:44:44.981Z"
   },
   {
    "duration": 5,
    "start_time": "2022-06-13T22:45:19.812Z"
   },
   {
    "duration": 8,
    "start_time": "2022-06-13T22:45:34.076Z"
   },
   {
    "duration": 10,
    "start_time": "2022-06-13T22:45:48.751Z"
   },
   {
    "duration": 5,
    "start_time": "2022-06-13T22:46:11.790Z"
   },
   {
    "duration": 18,
    "start_time": "2022-06-13T22:47:25.876Z"
   },
   {
    "duration": 19,
    "start_time": "2022-06-13T22:47:46.142Z"
   },
   {
    "duration": 17,
    "start_time": "2022-06-13T22:48:13.485Z"
   },
   {
    "duration": 107,
    "start_time": "2022-06-13T22:49:21.440Z"
   },
   {
    "duration": 50,
    "start_time": "2022-06-13T22:49:42.130Z"
   },
   {
    "duration": 16,
    "start_time": "2022-06-13T22:49:55.232Z"
   },
   {
    "duration": 18,
    "start_time": "2022-06-13T22:50:01.827Z"
   },
   {
    "duration": 21,
    "start_time": "2022-06-13T22:52:36.902Z"
   },
   {
    "duration": 17,
    "start_time": "2022-06-13T22:54:44.448Z"
   },
   {
    "duration": 12,
    "start_time": "2022-06-13T22:59:35.078Z"
   },
   {
    "duration": 10,
    "start_time": "2022-06-13T23:02:43.093Z"
   },
   {
    "duration": 13,
    "start_time": "2022-06-13T23:04:29.577Z"
   },
   {
    "duration": 14,
    "start_time": "2022-06-13T23:04:43.879Z"
   },
   {
    "duration": 659,
    "start_time": "2022-06-13T23:05:07.286Z"
   },
   {
    "duration": 1823,
    "start_time": "2022-06-13T23:05:57.039Z"
   },
   {
    "duration": 1756,
    "start_time": "2022-06-13T23:06:06.297Z"
   },
   {
    "duration": 17,
    "start_time": "2022-06-13T23:07:19.841Z"
   },
   {
    "duration": 1667,
    "start_time": "2022-06-13T23:07:48.030Z"
   },
   {
    "duration": 1719,
    "start_time": "2022-06-13T23:11:43.702Z"
   },
   {
    "duration": 33,
    "start_time": "2022-06-13T23:18:45.743Z"
   },
   {
    "duration": 1918,
    "start_time": "2022-06-13T23:18:56.934Z"
   },
   {
    "duration": 1657,
    "start_time": "2022-06-13T23:20:37.513Z"
   },
   {
    "duration": 1094,
    "start_time": "2022-06-14T00:12:40.810Z"
   },
   {
    "duration": 498,
    "start_time": "2022-06-14T00:12:43.129Z"
   },
   {
    "duration": 16,
    "start_time": "2022-06-14T00:12:45.539Z"
   },
   {
    "duration": 108,
    "start_time": "2022-06-14T00:14:31.932Z"
   },
   {
    "duration": 15,
    "start_time": "2022-06-14T00:14:40.876Z"
   },
   {
    "duration": 10,
    "start_time": "2022-06-14T00:14:51.085Z"
   },
   {
    "duration": 15,
    "start_time": "2022-06-14T00:15:00.295Z"
   },
   {
    "duration": 21,
    "start_time": "2022-06-14T00:15:08.736Z"
   },
   {
    "duration": 48,
    "start_time": "2022-06-14T00:15:34.553Z"
   },
   {
    "duration": 13,
    "start_time": "2022-06-14T00:18:52.412Z"
   },
   {
    "duration": 26,
    "start_time": "2022-06-14T00:18:59.573Z"
   },
   {
    "duration": 7,
    "start_time": "2022-06-14T00:19:04.568Z"
   },
   {
    "duration": 14,
    "start_time": "2022-06-14T00:19:05.536Z"
   },
   {
    "duration": 10,
    "start_time": "2022-06-14T00:19:33.966Z"
   },
   {
    "duration": 13,
    "start_time": "2022-06-14T00:19:34.417Z"
   },
   {
    "duration": 11,
    "start_time": "2022-06-14T00:19:38.899Z"
   },
   {
    "duration": 17,
    "start_time": "2022-06-14T00:19:39.607Z"
   },
   {
    "duration": 18,
    "start_time": "2022-06-14T00:19:49.048Z"
   },
   {
    "duration": 16,
    "start_time": "2022-06-14T00:19:49.537Z"
   },
   {
    "duration": 46,
    "start_time": "2022-06-14T00:24:48.633Z"
   },
   {
    "duration": 24,
    "start_time": "2022-06-14T00:29:59.599Z"
   },
   {
    "duration": 25,
    "start_time": "2022-06-14T00:30:01.888Z"
   },
   {
    "duration": 16,
    "start_time": "2022-06-14T00:30:02.791Z"
   },
   {
    "duration": 23,
    "start_time": "2022-06-14T00:32:15.014Z"
   },
   {
    "duration": 4,
    "start_time": "2022-06-14T00:46:31.134Z"
   },
   {
    "duration": 4,
    "start_time": "2022-06-14T00:46:47.260Z"
   },
   {
    "duration": 5,
    "start_time": "2022-06-14T00:46:59.986Z"
   },
   {
    "duration": 5,
    "start_time": "2022-06-14T00:47:05.012Z"
   },
   {
    "duration": 18,
    "start_time": "2022-06-14T01:05:42.074Z"
   },
   {
    "duration": 5,
    "start_time": "2022-06-14T01:06:55.021Z"
   },
   {
    "duration": 18,
    "start_time": "2022-06-14T01:06:58.748Z"
   },
   {
    "duration": 4,
    "start_time": "2022-06-14T01:08:03.779Z"
   },
   {
    "duration": 27,
    "start_time": "2022-06-14T01:09:17.333Z"
   },
   {
    "duration": 37,
    "start_time": "2022-06-14T01:09:24.873Z"
   },
   {
    "duration": 20,
    "start_time": "2022-06-14T01:09:31.413Z"
   },
   {
    "duration": 22,
    "start_time": "2022-06-14T01:09:48.590Z"
   },
   {
    "duration": 34,
    "start_time": "2022-06-14T01:10:06.326Z"
   },
   {
    "duration": 17,
    "start_time": "2022-06-14T01:10:20.486Z"
   },
   {
    "duration": 22,
    "start_time": "2022-06-14T01:10:31.463Z"
   },
   {
    "duration": 16,
    "start_time": "2022-06-14T01:11:14.244Z"
   },
   {
    "duration": 16,
    "start_time": "2022-06-14T01:11:19.956Z"
   },
   {
    "duration": 4,
    "start_time": "2022-06-14T01:15:15.295Z"
   },
   {
    "duration": 9,
    "start_time": "2022-06-14T01:15:31.000Z"
   },
   {
    "duration": 26,
    "start_time": "2022-06-14T01:15:47.228Z"
   },
   {
    "duration": 20,
    "start_time": "2022-06-14T01:16:30.422Z"
   },
   {
    "duration": 5,
    "start_time": "2022-06-14T01:18:11.312Z"
   },
   {
    "duration": 5,
    "start_time": "2022-06-14T01:18:45.322Z"
   },
   {
    "duration": 20,
    "start_time": "2022-06-14T01:24:30.710Z"
   },
   {
    "duration": 19,
    "start_time": "2022-06-14T01:24:41.569Z"
   },
   {
    "duration": 38,
    "start_time": "2022-06-14T01:24:50.024Z"
   },
   {
    "duration": 20,
    "start_time": "2022-06-14T01:24:53.544Z"
   },
   {
    "duration": 20,
    "start_time": "2022-06-14T01:24:57.329Z"
   },
   {
    "duration": 17,
    "start_time": "2022-06-14T01:25:46.256Z"
   },
   {
    "duration": 1629,
    "start_time": "2022-06-14T01:33:29.644Z"
   },
   {
    "duration": 14,
    "start_time": "2022-06-14T01:35:08.889Z"
   },
   {
    "duration": 1643,
    "start_time": "2022-06-14T01:35:27.817Z"
   },
   {
    "duration": 1652,
    "start_time": "2022-06-14T01:36:53.560Z"
   },
   {
    "duration": 632,
    "start_time": "2022-06-14T01:38:22.890Z"
   },
   {
    "duration": 558,
    "start_time": "2022-06-14T01:38:32.068Z"
   },
   {
    "duration": 1627,
    "start_time": "2022-06-14T01:39:30.680Z"
   },
   {
    "duration": 1685,
    "start_time": "2022-06-14T01:40:42.045Z"
   },
   {
    "duration": 1749,
    "start_time": "2022-06-14T01:46:39.121Z"
   },
   {
    "duration": 1722,
    "start_time": "2022-06-14T01:46:46.419Z"
   },
   {
    "duration": 1648,
    "start_time": "2022-06-14T01:55:35.077Z"
   },
   {
    "duration": 1142,
    "start_time": "2022-06-14T02:20:15.112Z"
   },
   {
    "duration": 407,
    "start_time": "2022-06-14T02:20:16.256Z"
   },
   {
    "duration": 19,
    "start_time": "2022-06-14T02:20:16.665Z"
   },
   {
    "duration": 49,
    "start_time": "2022-06-14T02:20:16.685Z"
   },
   {
    "duration": 14,
    "start_time": "2022-06-14T02:20:16.758Z"
   },
   {
    "duration": 49,
    "start_time": "2022-06-14T02:20:16.774Z"
   },
   {
    "duration": 45,
    "start_time": "2022-06-14T02:20:16.825Z"
   },
   {
    "duration": 100,
    "start_time": "2022-06-14T02:20:16.872Z"
   },
   {
    "duration": 103,
    "start_time": "2022-06-14T02:20:16.974Z"
   },
   {
    "duration": 113,
    "start_time": "2022-06-14T02:20:17.159Z"
   },
   {
    "duration": 28,
    "start_time": "2022-06-14T02:20:17.275Z"
   },
   {
    "duration": 1605,
    "start_time": "2022-06-14T02:20:17.305Z"
   },
   {
    "duration": 1031,
    "start_time": "2022-06-14T02:20:37.505Z"
   },
   {
    "duration": 408,
    "start_time": "2022-06-14T02:20:38.538Z"
   },
   {
    "duration": 18,
    "start_time": "2022-06-14T02:20:38.948Z"
   },
   {
    "duration": 51,
    "start_time": "2022-06-14T02:20:38.968Z"
   },
   {
    "duration": 41,
    "start_time": "2022-06-14T02:20:39.022Z"
   },
   {
    "duration": 43,
    "start_time": "2022-06-14T02:20:39.066Z"
   },
   {
    "duration": 148,
    "start_time": "2022-06-14T02:20:39.111Z"
   },
   {
    "duration": 28,
    "start_time": "2022-06-14T02:20:39.261Z"
   },
   {
    "duration": 127,
    "start_time": "2022-06-14T02:20:39.360Z"
   },
   {
    "duration": 69,
    "start_time": "2022-06-14T02:20:39.489Z"
   },
   {
    "duration": 105,
    "start_time": "2022-06-14T02:20:39.561Z"
   },
   {
    "duration": 1728,
    "start_time": "2022-06-14T02:20:39.668Z"
   },
   {
    "duration": 1106,
    "start_time": "2022-06-14T02:21:25.412Z"
   },
   {
    "duration": 407,
    "start_time": "2022-06-14T02:21:26.521Z"
   },
   {
    "duration": 19,
    "start_time": "2022-06-14T02:21:26.930Z"
   },
   {
    "duration": 42,
    "start_time": "2022-06-14T02:21:26.960Z"
   },
   {
    "duration": 15,
    "start_time": "2022-06-14T02:21:27.005Z"
   },
   {
    "duration": 100,
    "start_time": "2022-06-14T02:21:27.022Z"
   },
   {
    "duration": 49,
    "start_time": "2022-06-14T02:21:27.125Z"
   },
   {
    "duration": 203,
    "start_time": "2022-06-14T02:21:27.177Z"
   },
   {
    "duration": 181,
    "start_time": "2022-06-14T02:21:27.381Z"
   },
   {
    "duration": 99,
    "start_time": "2022-06-14T02:21:27.564Z"
   },
   {
    "duration": 101,
    "start_time": "2022-06-14T02:21:27.669Z"
   },
   {
    "duration": 1670,
    "start_time": "2022-06-14T02:21:27.772Z"
   },
   {
    "duration": 31,
    "start_time": "2022-06-14T02:22:32.875Z"
   },
   {
    "duration": 1075,
    "start_time": "2022-06-14T02:23:04.849Z"
   },
   {
    "duration": 410,
    "start_time": "2022-06-14T02:23:05.926Z"
   },
   {
    "duration": 22,
    "start_time": "2022-06-14T02:23:06.338Z"
   },
   {
    "duration": 49,
    "start_time": "2022-06-14T02:23:06.363Z"
   },
   {
    "duration": 14,
    "start_time": "2022-06-14T02:23:06.415Z"
   },
   {
    "duration": 81,
    "start_time": "2022-06-14T02:23:06.431Z"
   },
   {
    "duration": 56,
    "start_time": "2022-06-14T02:23:06.514Z"
   },
   {
    "duration": 104,
    "start_time": "2022-06-14T02:23:06.572Z"
   },
   {
    "duration": 187,
    "start_time": "2022-06-14T02:23:06.678Z"
   },
   {
    "duration": 7,
    "start_time": "2022-06-14T02:23:06.869Z"
   },
   {
    "duration": 117,
    "start_time": "2022-06-14T02:23:06.958Z"
   },
   {
    "duration": 1641,
    "start_time": "2022-06-14T02:23:07.077Z"
   },
   {
    "duration": 1079,
    "start_time": "2022-06-14T02:24:34.190Z"
   },
   {
    "duration": 408,
    "start_time": "2022-06-14T02:24:35.272Z"
   },
   {
    "duration": 25,
    "start_time": "2022-06-14T02:24:35.682Z"
   },
   {
    "duration": 71,
    "start_time": "2022-06-14T02:24:35.709Z"
   },
   {
    "duration": 14,
    "start_time": "2022-06-14T02:24:35.782Z"
   },
   {
    "duration": 61,
    "start_time": "2022-06-14T02:24:35.798Z"
   },
   {
    "duration": 104,
    "start_time": "2022-06-14T02:24:35.861Z"
   },
   {
    "duration": 193,
    "start_time": "2022-06-14T02:24:35.967Z"
   },
   {
    "duration": 120,
    "start_time": "2022-06-14T02:24:36.163Z"
   },
   {
    "duration": 101,
    "start_time": "2022-06-14T02:24:36.360Z"
   },
   {
    "duration": 29,
    "start_time": "2022-06-14T02:24:36.463Z"
   },
   {
    "duration": 1719,
    "start_time": "2022-06-14T02:24:36.494Z"
   },
   {
    "duration": 44,
    "start_time": "2022-06-15T01:13:28.502Z"
   },
   {
    "duration": 928,
    "start_time": "2022-06-15T01:18:50.395Z"
   },
   {
    "duration": 1465,
    "start_time": "2022-06-15T01:18:51.325Z"
   },
   {
    "duration": 14,
    "start_time": "2022-06-15T01:18:52.791Z"
   },
   {
    "duration": 31,
    "start_time": "2022-06-15T01:18:52.806Z"
   },
   {
    "duration": 10,
    "start_time": "2022-06-15T01:18:52.839Z"
   },
   {
    "duration": 43,
    "start_time": "2022-06-15T01:18:52.850Z"
   },
   {
    "duration": 15,
    "start_time": "2022-06-15T01:18:52.895Z"
   },
   {
    "duration": 170,
    "start_time": "2022-06-15T01:18:52.911Z"
   },
   {
    "duration": 196,
    "start_time": "2022-06-15T01:18:53.083Z"
   },
   {
    "duration": 9,
    "start_time": "2022-06-15T01:18:53.281Z"
   },
   {
    "duration": 105,
    "start_time": "2022-06-15T01:18:53.378Z"
   },
   {
    "duration": 0,
    "start_time": "2022-06-15T01:18:53.485Z"
   },
   {
    "duration": 10,
    "start_time": "2022-06-15T01:19:17.829Z"
   },
   {
    "duration": 4,
    "start_time": "2022-06-15T01:19:29.131Z"
   },
   {
    "duration": 5,
    "start_time": "2022-06-15T01:19:46.171Z"
   },
   {
    "duration": 9,
    "start_time": "2022-06-15T01:20:26.691Z"
   },
   {
    "duration": 19,
    "start_time": "2022-06-15T01:21:53.543Z"
   },
   {
    "duration": 7,
    "start_time": "2022-06-15T01:21:58.291Z"
   },
   {
    "duration": 22,
    "start_time": "2022-06-15T01:22:33.246Z"
   },
   {
    "duration": 17,
    "start_time": "2022-06-15T01:23:00.825Z"
   },
   {
    "duration": 5,
    "start_time": "2022-06-15T01:23:35.646Z"
   },
   {
    "duration": 10,
    "start_time": "2022-06-15T01:23:47.647Z"
   },
   {
    "duration": 4,
    "start_time": "2022-06-15T01:24:15.154Z"
   },
   {
    "duration": 6,
    "start_time": "2022-06-15T01:24:34.265Z"
   },
   {
    "duration": 21,
    "start_time": "2022-06-15T01:25:00.753Z"
   },
   {
    "duration": 23,
    "start_time": "2022-06-15T01:25:23.011Z"
   },
   {
    "duration": 20,
    "start_time": "2022-06-15T01:25:41.501Z"
   },
   {
    "duration": 5,
    "start_time": "2022-06-15T01:26:33.145Z"
   },
   {
    "duration": 12,
    "start_time": "2022-06-15T01:26:45.804Z"
   },
   {
    "duration": 24,
    "start_time": "2022-06-15T01:28:15.146Z"
   },
   {
    "duration": 5,
    "start_time": "2022-06-15T01:28:24.397Z"
   },
   {
    "duration": 5,
    "start_time": "2022-06-15T01:28:40.587Z"
   },
   {
    "duration": 4,
    "start_time": "2022-06-15T01:28:45.902Z"
   },
   {
    "duration": 458,
    "start_time": "2022-06-15T01:29:37.108Z"
   },
   {
    "duration": 432,
    "start_time": "2022-06-15T01:29:46.669Z"
   },
   {
    "duration": 4,
    "start_time": "2022-06-15T01:30:06.676Z"
   },
   {
    "duration": 4,
    "start_time": "2022-06-15T01:31:38.443Z"
   },
   {
    "duration": 5,
    "start_time": "2022-06-15T01:32:21.231Z"
   },
   {
    "duration": 11,
    "start_time": "2022-06-15T01:33:14.921Z"
   },
   {
    "duration": 18,
    "start_time": "2022-06-15T01:33:20.297Z"
   },
   {
    "duration": 18,
    "start_time": "2022-06-15T01:33:28.721Z"
   },
   {
    "duration": 25,
    "start_time": "2022-06-15T01:33:56.846Z"
   },
   {
    "duration": 7,
    "start_time": "2022-06-15T01:35:26.944Z"
   },
   {
    "duration": 19,
    "start_time": "2022-06-15T01:36:22.344Z"
   },
   {
    "duration": 17,
    "start_time": "2022-06-15T01:36:33.983Z"
   },
   {
    "duration": 5,
    "start_time": "2022-06-15T01:36:56.195Z"
   },
   {
    "duration": 8,
    "start_time": "2022-06-15T01:37:34.187Z"
   },
   {
    "duration": 27,
    "start_time": "2022-06-15T01:37:40.918Z"
   },
   {
    "duration": 5,
    "start_time": "2022-06-15T01:38:15.998Z"
   },
   {
    "duration": 5,
    "start_time": "2022-06-15T01:39:51.004Z"
   },
   {
    "duration": 8,
    "start_time": "2022-06-15T01:39:57.840Z"
   },
   {
    "duration": 418,
    "start_time": "2022-06-15T01:40:43.791Z"
   },
   {
    "duration": 457,
    "start_time": "2022-06-15T01:40:51.561Z"
   },
   {
    "duration": 5,
    "start_time": "2022-06-15T01:41:40.000Z"
   },
   {
    "duration": 4,
    "start_time": "2022-06-15T01:41:59.020Z"
   },
   {
    "duration": 8,
    "start_time": "2022-06-15T01:42:03.816Z"
   },
   {
    "duration": 4,
    "start_time": "2022-06-15T01:42:53.355Z"
   },
   {
    "duration": 6,
    "start_time": "2022-06-15T01:43:10.279Z"
   },
   {
    "duration": 4,
    "start_time": "2022-06-15T01:44:33.003Z"
   },
   {
    "duration": 5,
    "start_time": "2022-06-15T01:45:24.546Z"
   },
   {
    "duration": 20,
    "start_time": "2022-06-15T01:45:44.575Z"
   },
   {
    "duration": 19,
    "start_time": "2022-06-15T01:45:55.064Z"
   },
   {
    "duration": 18,
    "start_time": "2022-06-15T01:45:59.197Z"
   },
   {
    "duration": 932,
    "start_time": "2022-06-15T01:46:38.054Z"
   },
   {
    "duration": 316,
    "start_time": "2022-06-15T01:46:38.988Z"
   },
   {
    "duration": 12,
    "start_time": "2022-06-15T01:46:39.305Z"
   },
   {
    "duration": 30,
    "start_time": "2022-06-15T01:46:39.319Z"
   },
   {
    "duration": 9,
    "start_time": "2022-06-15T01:46:39.351Z"
   },
   {
    "duration": 48,
    "start_time": "2022-06-15T01:46:39.362Z"
   },
   {
    "duration": 14,
    "start_time": "2022-06-15T01:46:39.412Z"
   },
   {
    "duration": 154,
    "start_time": "2022-06-15T01:46:39.428Z"
   },
   {
    "duration": 107,
    "start_time": "2022-06-15T01:46:39.584Z"
   },
   {
    "duration": 4,
    "start_time": "2022-06-15T01:46:39.693Z"
   },
   {
    "duration": 186,
    "start_time": "2022-06-15T01:46:39.698Z"
   },
   {
    "duration": 106,
    "start_time": "2022-06-15T01:46:39.886Z"
   },
   {
    "duration": 19,
    "start_time": "2022-06-15T01:48:59.428Z"
   },
   {
    "duration": 2469,
    "start_time": "2022-06-15T01:49:01.904Z"
   },
   {
    "duration": 2444,
    "start_time": "2022-06-15T01:49:23.898Z"
   },
   {
    "duration": 2576,
    "start_time": "2022-06-15T01:49:41.457Z"
   },
   {
    "duration": 2580,
    "start_time": "2022-06-15T01:49:46.854Z"
   },
   {
    "duration": 2598,
    "start_time": "2022-06-15T01:51:35.368Z"
   },
   {
    "duration": 2381,
    "start_time": "2022-06-15T01:56:28.745Z"
   },
   {
    "duration": 31,
    "start_time": "2022-06-15T02:16:13.960Z"
   },
   {
    "duration": 9,
    "start_time": "2022-06-15T02:16:50.893Z"
   },
   {
    "duration": 6,
    "start_time": "2022-06-15T02:17:08.671Z"
   },
   {
    "duration": 5,
    "start_time": "2022-06-15T02:17:17.458Z"
   },
   {
    "duration": 4,
    "start_time": "2022-06-15T02:18:12.145Z"
   },
   {
    "duration": 53,
    "start_time": "2022-06-15T02:19:07.790Z"
   },
   {
    "duration": 11,
    "start_time": "2022-06-15T02:19:29.185Z"
   },
   {
    "duration": 22,
    "start_time": "2022-06-15T02:19:44.778Z"
   },
   {
    "duration": 9,
    "start_time": "2022-06-15T20:48:30.636Z"
   },
   {
    "duration": 4,
    "start_time": "2022-06-15T20:48:35.259Z"
   },
   {
    "duration": 360,
    "start_time": "2022-06-15T20:48:35.265Z"
   },
   {
    "duration": 19,
    "start_time": "2022-06-15T20:48:35.626Z"
   },
   {
    "duration": 35,
    "start_time": "2022-06-15T20:48:35.646Z"
   },
   {
    "duration": 15,
    "start_time": "2022-06-15T20:48:35.683Z"
   },
   {
    "duration": 37,
    "start_time": "2022-06-15T20:48:35.700Z"
   },
   {
    "duration": 58,
    "start_time": "2022-06-15T20:48:35.738Z"
   },
   {
    "duration": 102,
    "start_time": "2022-06-15T20:48:35.797Z"
   },
   {
    "duration": 197,
    "start_time": "2022-06-15T20:48:35.900Z"
   },
   {
    "duration": 101,
    "start_time": "2022-06-15T20:48:36.102Z"
   },
   {
    "duration": 101,
    "start_time": "2022-06-15T20:48:36.205Z"
   },
   {
    "duration": 9,
    "start_time": "2022-06-15T20:48:36.307Z"
   },
   {
    "duration": 0,
    "start_time": "2022-06-15T20:48:36.317Z"
   },
   {
    "duration": 651,
    "start_time": "2022-06-15T20:48:47.848Z"
   },
   {
    "duration": 820,
    "start_time": "2022-06-15T20:49:07.063Z"
   },
   {
    "duration": 4,
    "start_time": "2022-06-15T20:49:19.999Z"
   },
   {
    "duration": 5,
    "start_time": "2022-06-15T20:49:28.088Z"
   },
   {
    "duration": 7,
    "start_time": "2022-06-15T20:49:42.373Z"
   },
   {
    "duration": 11,
    "start_time": "2022-06-15T20:50:15.177Z"
   },
   {
    "duration": 16,
    "start_time": "2022-06-15T20:51:32.286Z"
   },
   {
    "duration": 11,
    "start_time": "2022-06-15T20:51:38.792Z"
   },
   {
    "duration": 12,
    "start_time": "2022-06-15T20:52:01.452Z"
   },
   {
    "duration": 5,
    "start_time": "2022-06-15T20:52:41.893Z"
   },
   {
    "duration": 11,
    "start_time": "2022-06-15T20:52:45.643Z"
   },
   {
    "duration": 13,
    "start_time": "2022-06-15T20:52:57.473Z"
   },
   {
    "duration": 12,
    "start_time": "2022-06-15T20:53:44.142Z"
   },
   {
    "duration": 5,
    "start_time": "2022-06-15T20:54:24.975Z"
   },
   {
    "duration": 7,
    "start_time": "2022-06-15T20:54:36.404Z"
   },
   {
    "duration": 4,
    "start_time": "2022-06-15T20:54:48.119Z"
   },
   {
    "duration": 11,
    "start_time": "2022-06-15T20:59:07.788Z"
   },
   {
    "duration": 5,
    "start_time": "2022-06-15T20:59:39.651Z"
   },
   {
    "duration": 41,
    "start_time": "2022-06-15T21:02:23.785Z"
   },
   {
    "duration": 18,
    "start_time": "2022-06-15T21:04:21.421Z"
   },
   {
    "duration": 27,
    "start_time": "2022-06-15T21:04:27.015Z"
   },
   {
    "duration": 42,
    "start_time": "2022-06-15T21:05:31.770Z"
   },
   {
    "duration": 6679,
    "start_time": "2022-06-15T21:05:55.374Z"
   },
   {
    "duration": 7301,
    "start_time": "2022-06-15T21:06:21.493Z"
   },
   {
    "duration": 20,
    "start_time": "2022-06-15T21:07:33.572Z"
   },
   {
    "duration": 6956,
    "start_time": "2022-06-15T21:07:46.990Z"
   },
   {
    "duration": 28,
    "start_time": "2022-06-15T21:08:01.511Z"
   },
   {
    "duration": 30,
    "start_time": "2022-06-15T21:08:07.341Z"
   },
   {
    "duration": 927,
    "start_time": "2022-06-15T21:10:14.135Z"
   },
   {
    "duration": 332,
    "start_time": "2022-06-15T21:10:15.064Z"
   },
   {
    "duration": 16,
    "start_time": "2022-06-15T21:10:15.397Z"
   },
   {
    "duration": 37,
    "start_time": "2022-06-15T21:10:15.415Z"
   },
   {
    "duration": 11,
    "start_time": "2022-06-15T21:10:15.454Z"
   },
   {
    "duration": 57,
    "start_time": "2022-06-15T21:10:15.466Z"
   },
   {
    "duration": 70,
    "start_time": "2022-06-15T21:10:15.525Z"
   },
   {
    "duration": 102,
    "start_time": "2022-06-15T21:10:15.599Z"
   },
   {
    "duration": 208,
    "start_time": "2022-06-15T21:10:15.703Z"
   },
   {
    "duration": 84,
    "start_time": "2022-06-15T21:10:15.913Z"
   },
   {
    "duration": 123,
    "start_time": "2022-06-15T21:10:16.004Z"
   },
   {
    "duration": 9,
    "start_time": "2022-06-15T21:10:16.129Z"
   },
   {
    "duration": 7,
    "start_time": "2022-06-15T21:10:16.140Z"
   },
   {
    "duration": 7,
    "start_time": "2022-06-15T21:10:16.149Z"
   },
   {
    "duration": 14,
    "start_time": "2022-06-15T21:10:16.157Z"
   },
   {
    "duration": 4,
    "start_time": "2022-06-15T21:10:16.173Z"
   },
   {
    "duration": 20,
    "start_time": "2022-06-15T21:10:16.179Z"
   },
   {
    "duration": 112,
    "start_time": "2022-06-15T21:10:16.201Z"
   },
   {
    "duration": 25,
    "start_time": "2022-06-15T21:10:59.676Z"
   },
   {
    "duration": 916,
    "start_time": "2022-06-15T21:13:28.585Z"
   },
   {
    "duration": 325,
    "start_time": "2022-06-15T21:13:29.504Z"
   },
   {
    "duration": 13,
    "start_time": "2022-06-15T21:13:29.831Z"
   },
   {
    "duration": 29,
    "start_time": "2022-06-15T21:13:29.846Z"
   },
   {
    "duration": 22,
    "start_time": "2022-06-15T21:13:29.877Z"
   },
   {
    "duration": 42,
    "start_time": "2022-06-15T21:13:29.900Z"
   },
   {
    "duration": 51,
    "start_time": "2022-06-15T21:13:29.944Z"
   },
   {
    "duration": 100,
    "start_time": "2022-06-15T21:13:29.999Z"
   },
   {
    "duration": 197,
    "start_time": "2022-06-15T21:13:30.100Z"
   },
   {
    "duration": 106,
    "start_time": "2022-06-15T21:13:30.299Z"
   },
   {
    "duration": 101,
    "start_time": "2022-06-15T21:13:30.407Z"
   },
   {
    "duration": 20,
    "start_time": "2022-06-15T21:13:30.510Z"
   },
   {
    "duration": 14,
    "start_time": "2022-06-15T21:13:30.532Z"
   },
   {
    "duration": 23,
    "start_time": "2022-06-15T21:13:30.548Z"
   },
   {
    "duration": 19,
    "start_time": "2022-06-15T21:13:30.573Z"
   },
   {
    "duration": 12,
    "start_time": "2022-06-15T21:13:30.594Z"
   },
   {
    "duration": 19,
    "start_time": "2022-06-15T21:13:30.607Z"
   },
   {
    "duration": 108,
    "start_time": "2022-06-15T21:13:30.627Z"
   },
   {
    "duration": 876,
    "start_time": "2022-06-15T21:14:29.358Z"
   },
   {
    "duration": 328,
    "start_time": "2022-06-15T21:14:30.236Z"
   },
   {
    "duration": 13,
    "start_time": "2022-06-15T21:14:30.566Z"
   },
   {
    "duration": 38,
    "start_time": "2022-06-15T21:14:30.580Z"
   },
   {
    "duration": 10,
    "start_time": "2022-06-15T21:14:30.620Z"
   },
   {
    "duration": 45,
    "start_time": "2022-06-15T21:14:30.632Z"
   },
   {
    "duration": 26,
    "start_time": "2022-06-15T21:14:30.679Z"
   },
   {
    "duration": 190,
    "start_time": "2022-06-15T21:14:30.707Z"
   },
   {
    "duration": 206,
    "start_time": "2022-06-15T21:14:30.899Z"
   },
   {
    "duration": 90,
    "start_time": "2022-06-15T21:14:31.107Z"
   },
   {
    "duration": 117,
    "start_time": "2022-06-15T21:14:31.199Z"
   },
   {
    "duration": 9,
    "start_time": "2022-06-15T21:14:31.318Z"
   },
   {
    "duration": 8,
    "start_time": "2022-06-15T21:14:31.328Z"
   },
   {
    "duration": 10,
    "start_time": "2022-06-15T21:14:31.338Z"
   },
   {
    "duration": 21,
    "start_time": "2022-06-15T21:14:31.349Z"
   },
   {
    "duration": 4,
    "start_time": "2022-06-15T21:14:31.372Z"
   },
   {
    "duration": 18,
    "start_time": "2022-06-15T21:14:31.377Z"
   },
   {
    "duration": 106,
    "start_time": "2022-06-15T21:14:31.397Z"
   },
   {
    "duration": 11,
    "start_time": "2022-06-15T21:16:12.786Z"
   },
   {
    "duration": 2357,
    "start_time": "2022-06-15T21:16:25.714Z"
   },
   {
    "duration": 2174,
    "start_time": "2022-06-15T21:16:49.704Z"
   },
   {
    "duration": 2321,
    "start_time": "2022-06-15T21:17:35.104Z"
   },
   {
    "duration": 18,
    "start_time": "2022-06-15T21:19:27.915Z"
   },
   {
    "duration": 2236,
    "start_time": "2022-06-15T21:19:48.139Z"
   },
   {
    "duration": 2789,
    "start_time": "2022-06-15T21:21:34.100Z"
   },
   {
    "duration": 870,
    "start_time": "2022-06-15T21:23:19.051Z"
   },
   {
    "duration": 322,
    "start_time": "2022-06-15T21:23:19.922Z"
   },
   {
    "duration": 13,
    "start_time": "2022-06-15T21:23:20.246Z"
   },
   {
    "duration": 39,
    "start_time": "2022-06-15T21:23:20.260Z"
   },
   {
    "duration": 10,
    "start_time": "2022-06-15T21:23:20.301Z"
   },
   {
    "duration": 38,
    "start_time": "2022-06-15T21:23:20.312Z"
   },
   {
    "duration": 45,
    "start_time": "2022-06-15T21:23:20.352Z"
   },
   {
    "duration": 102,
    "start_time": "2022-06-15T21:23:20.399Z"
   },
   {
    "duration": 104,
    "start_time": "2022-06-15T21:23:20.502Z"
   },
   {
    "duration": 89,
    "start_time": "2022-06-15T21:23:20.608Z"
   },
   {
    "duration": 111,
    "start_time": "2022-06-15T21:23:20.699Z"
   },
   {
    "duration": 11,
    "start_time": "2022-06-15T21:23:20.811Z"
   },
   {
    "duration": 8,
    "start_time": "2022-06-15T21:23:20.824Z"
   },
   {
    "duration": 11,
    "start_time": "2022-06-15T21:23:20.833Z"
   },
   {
    "duration": 21,
    "start_time": "2022-06-15T21:23:20.846Z"
   },
   {
    "duration": 4,
    "start_time": "2022-06-15T21:23:20.869Z"
   },
   {
    "duration": 29,
    "start_time": "2022-06-15T21:23:20.875Z"
   },
   {
    "duration": 2932,
    "start_time": "2022-06-15T21:23:20.905Z"
   },
   {
    "duration": 82,
    "start_time": "2022-06-15T21:25:12.596Z"
   },
   {
    "duration": 10,
    "start_time": "2022-06-15T21:25:27.779Z"
   },
   {
    "duration": 9,
    "start_time": "2022-06-15T21:25:52.186Z"
   },
   {
    "duration": 12,
    "start_time": "2022-06-15T21:26:23.223Z"
   },
   {
    "duration": 6,
    "start_time": "2022-06-15T21:26:44.132Z"
   },
   {
    "duration": 5,
    "start_time": "2022-06-15T21:27:44.102Z"
   },
   {
    "duration": 9,
    "start_time": "2022-06-15T21:27:55.313Z"
   },
   {
    "duration": 6,
    "start_time": "2022-06-15T21:28:01.430Z"
   },
   {
    "duration": 534,
    "start_time": "2022-06-15T21:28:29.151Z"
   },
   {
    "duration": 5,
    "start_time": "2022-06-15T21:28:38.337Z"
   },
   {
    "duration": 28,
    "start_time": "2022-06-15T21:29:12.192Z"
   },
   {
    "duration": 20,
    "start_time": "2022-06-15T21:29:16.865Z"
   },
   {
    "duration": 17,
    "start_time": "2022-06-15T21:29:22.642Z"
   },
   {
    "duration": 2567,
    "start_time": "2022-06-15T21:29:32.978Z"
   },
   {
    "duration": 539,
    "start_time": "2022-06-15T21:30:23.952Z"
   },
   {
    "duration": 496,
    "start_time": "2022-06-15T21:30:37.391Z"
   },
   {
    "duration": 5,
    "start_time": "2022-06-15T21:30:47.045Z"
   },
   {
    "duration": 5,
    "start_time": "2022-06-15T21:31:06.440Z"
   },
   {
    "duration": 6,
    "start_time": "2022-06-15T21:31:48.348Z"
   },
   {
    "duration": 6,
    "start_time": "2022-06-15T21:31:49.104Z"
   },
   {
    "duration": 6,
    "start_time": "2022-06-15T21:32:36.875Z"
   },
   {
    "duration": 5,
    "start_time": "2022-06-15T21:32:44.737Z"
   },
   {
    "duration": 8,
    "start_time": "2022-06-15T21:32:50.818Z"
   },
   {
    "duration": 6,
    "start_time": "2022-06-15T21:33:19.236Z"
   },
   {
    "duration": 5,
    "start_time": "2022-06-15T21:33:49.167Z"
   },
   {
    "duration": 6,
    "start_time": "2022-06-15T21:33:53.383Z"
   },
   {
    "duration": 6,
    "start_time": "2022-06-15T21:34:19.255Z"
   },
   {
    "duration": 5,
    "start_time": "2022-06-15T21:34:24.400Z"
   },
   {
    "duration": 6,
    "start_time": "2022-06-15T21:34:25.754Z"
   },
   {
    "duration": 6,
    "start_time": "2022-06-15T21:34:44.472Z"
   },
   {
    "duration": 4,
    "start_time": "2022-06-15T21:34:57.047Z"
   },
   {
    "duration": 6,
    "start_time": "2022-06-15T21:35:02.965Z"
   },
   {
    "duration": 4,
    "start_time": "2022-06-15T21:35:38.142Z"
   },
   {
    "duration": 6,
    "start_time": "2022-06-15T21:35:55.233Z"
   },
   {
    "duration": 4,
    "start_time": "2022-06-15T21:36:08.056Z"
   },
   {
    "duration": 5,
    "start_time": "2022-06-15T21:36:26.565Z"
   },
   {
    "duration": 4,
    "start_time": "2022-06-15T21:36:35.720Z"
   },
   {
    "duration": 5,
    "start_time": "2022-06-15T21:37:34.014Z"
   },
   {
    "duration": 4,
    "start_time": "2022-06-15T21:37:42.869Z"
   },
   {
    "duration": 3,
    "start_time": "2022-06-15T21:38:10.585Z"
   },
   {
    "duration": 6,
    "start_time": "2022-06-15T21:39:13.459Z"
   },
   {
    "duration": 10,
    "start_time": "2022-06-15T21:39:30.444Z"
   },
   {
    "duration": 10,
    "start_time": "2022-06-15T21:39:35.815Z"
   },
   {
    "duration": 6,
    "start_time": "2022-06-15T21:39:41.792Z"
   },
   {
    "duration": 6,
    "start_time": "2022-06-15T21:41:30.090Z"
   },
   {
    "duration": 6,
    "start_time": "2022-06-15T21:41:40.081Z"
   },
   {
    "duration": 5,
    "start_time": "2022-06-15T21:43:19.600Z"
   },
   {
    "duration": 5,
    "start_time": "2022-06-15T21:45:12.799Z"
   },
   {
    "duration": 6,
    "start_time": "2022-06-15T21:45:31.968Z"
   },
   {
    "duration": 5,
    "start_time": "2022-06-15T21:46:14.581Z"
   },
   {
    "duration": 6,
    "start_time": "2022-06-15T21:46:18.011Z"
   },
   {
    "duration": 5,
    "start_time": "2022-06-15T21:46:30.495Z"
   },
   {
    "duration": 6,
    "start_time": "2022-06-15T21:46:36.577Z"
   },
   {
    "duration": 5,
    "start_time": "2022-06-15T21:47:31.281Z"
   },
   {
    "duration": 5,
    "start_time": "2022-06-15T21:48:26.678Z"
   },
   {
    "duration": 5,
    "start_time": "2022-06-15T21:48:36.563Z"
   },
   {
    "duration": 2675,
    "start_time": "2022-06-15T21:49:05.911Z"
   },
   {
    "duration": 18,
    "start_time": "2022-06-15T21:49:13.886Z"
   },
   {
    "duration": 6,
    "start_time": "2022-06-15T21:51:33.213Z"
   },
   {
    "duration": 16,
    "start_time": "2022-06-15T21:51:43.846Z"
   },
   {
    "duration": 2489,
    "start_time": "2022-06-15T21:52:56.636Z"
   },
   {
    "duration": 2466,
    "start_time": "2022-06-15T21:53:12.687Z"
   },
   {
    "duration": 880,
    "start_time": "2022-06-15T21:53:32.422Z"
   },
   {
    "duration": 317,
    "start_time": "2022-06-15T21:53:33.304Z"
   },
   {
    "duration": 13,
    "start_time": "2022-06-15T21:53:33.622Z"
   },
   {
    "duration": 30,
    "start_time": "2022-06-15T21:53:33.636Z"
   },
   {
    "duration": 27,
    "start_time": "2022-06-15T21:53:33.668Z"
   },
   {
    "duration": 38,
    "start_time": "2022-06-15T21:53:33.696Z"
   },
   {
    "duration": 16,
    "start_time": "2022-06-15T21:53:33.736Z"
   },
   {
    "duration": 143,
    "start_time": "2022-06-15T21:53:33.754Z"
   },
   {
    "duration": 105,
    "start_time": "2022-06-15T21:53:33.899Z"
   },
   {
    "duration": 92,
    "start_time": "2022-06-15T21:53:34.006Z"
   },
   {
    "duration": 114,
    "start_time": "2022-06-15T21:53:34.099Z"
   },
   {
    "duration": 2435,
    "start_time": "2022-06-15T21:53:34.214Z"
   },
   {
    "duration": 2539,
    "start_time": "2022-06-15T21:54:54.556Z"
   },
   {
    "duration": 2556,
    "start_time": "2022-06-15T21:55:02.520Z"
   },
   {
    "duration": 8695,
    "start_time": "2022-06-15T21:55:30.621Z"
   },
   {
    "duration": 23,
    "start_time": "2022-06-15T21:56:24.284Z"
   },
   {
    "duration": 14477,
    "start_time": "2022-06-15T21:56:36.833Z"
   },
   {
    "duration": 897,
    "start_time": "2022-06-15T21:57:59.308Z"
   },
   {
    "duration": 339,
    "start_time": "2022-06-15T21:58:00.207Z"
   },
   {
    "duration": 13,
    "start_time": "2022-06-15T21:58:00.547Z"
   },
   {
    "duration": 44,
    "start_time": "2022-06-15T21:58:00.562Z"
   },
   {
    "duration": 11,
    "start_time": "2022-06-15T21:58:00.609Z"
   },
   {
    "duration": 39,
    "start_time": "2022-06-15T21:58:00.622Z"
   },
   {
    "duration": 37,
    "start_time": "2022-06-15T21:58:00.663Z"
   },
   {
    "duration": 101,
    "start_time": "2022-06-15T21:58:00.701Z"
   },
   {
    "duration": 116,
    "start_time": "2022-06-15T21:58:00.894Z"
   },
   {
    "duration": 4,
    "start_time": "2022-06-15T21:58:01.011Z"
   },
   {
    "duration": 195,
    "start_time": "2022-06-15T21:58:01.016Z"
   },
   {
    "duration": 2485,
    "start_time": "2022-06-15T21:58:01.212Z"
   },
   {
    "duration": 840,
    "start_time": "2022-06-15T21:58:34.650Z"
   },
   {
    "duration": 337,
    "start_time": "2022-06-15T21:58:35.492Z"
   },
   {
    "duration": 15,
    "start_time": "2022-06-15T21:58:35.831Z"
   },
   {
    "duration": 47,
    "start_time": "2022-06-15T21:58:35.847Z"
   },
   {
    "duration": 12,
    "start_time": "2022-06-15T21:58:35.896Z"
   },
   {
    "duration": 37,
    "start_time": "2022-06-15T21:58:35.909Z"
   },
   {
    "duration": 48,
    "start_time": "2022-06-15T21:58:35.948Z"
   },
   {
    "duration": 103,
    "start_time": "2022-06-15T21:58:35.998Z"
   },
   {
    "duration": 100,
    "start_time": "2022-06-15T21:58:36.103Z"
   },
   {
    "duration": 8,
    "start_time": "2022-06-15T21:58:36.295Z"
   },
   {
    "duration": 19,
    "start_time": "2022-06-15T21:58:36.395Z"
   },
   {
    "duration": 2526,
    "start_time": "2022-06-15T21:58:36.416Z"
   },
   {
    "duration": 2395,
    "start_time": "2022-06-15T22:01:03.177Z"
   },
   {
    "duration": 44,
    "start_time": "2022-06-15T22:02:32.065Z"
   },
   {
    "duration": 915,
    "start_time": "2022-06-15T22:02:39.570Z"
   },
   {
    "duration": 314,
    "start_time": "2022-06-15T22:02:40.486Z"
   },
   {
    "duration": 14,
    "start_time": "2022-06-15T22:02:40.801Z"
   },
   {
    "duration": 45,
    "start_time": "2022-06-15T22:02:40.816Z"
   },
   {
    "duration": 11,
    "start_time": "2022-06-15T22:02:40.863Z"
   },
   {
    "duration": 40,
    "start_time": "2022-06-15T22:02:40.875Z"
   },
   {
    "duration": 78,
    "start_time": "2022-06-15T22:02:40.917Z"
   },
   {
    "duration": 104,
    "start_time": "2022-06-15T22:02:40.997Z"
   },
   {
    "duration": 207,
    "start_time": "2022-06-15T22:02:41.102Z"
   },
   {
    "duration": 5,
    "start_time": "2022-06-15T22:02:41.311Z"
   },
   {
    "duration": 111,
    "start_time": "2022-06-15T22:02:41.399Z"
   },
   {
    "duration": 14856,
    "start_time": "2022-06-15T22:02:41.511Z"
   },
   {
    "duration": 909,
    "start_time": "2022-06-15T22:04:40.787Z"
   },
   {
    "duration": 317,
    "start_time": "2022-06-15T22:04:41.697Z"
   },
   {
    "duration": 15,
    "start_time": "2022-06-15T22:04:42.016Z"
   },
   {
    "duration": 34,
    "start_time": "2022-06-15T22:04:42.032Z"
   },
   {
    "duration": 27,
    "start_time": "2022-06-15T22:04:42.068Z"
   },
   {
    "duration": 44,
    "start_time": "2022-06-15T22:04:42.097Z"
   },
   {
    "duration": 55,
    "start_time": "2022-06-15T22:04:42.142Z"
   },
   {
    "duration": 109,
    "start_time": "2022-06-15T22:04:42.198Z"
   },
   {
    "duration": 186,
    "start_time": "2022-06-15T22:04:42.309Z"
   },
   {
    "duration": 4,
    "start_time": "2022-06-15T22:04:42.497Z"
   },
   {
    "duration": 105,
    "start_time": "2022-06-15T22:04:42.502Z"
   },
   {
    "duration": 2460,
    "start_time": "2022-06-15T22:04:42.609Z"
   },
   {
    "duration": 927,
    "start_time": "2022-06-15T22:11:04.165Z"
   },
   {
    "duration": 324,
    "start_time": "2022-06-15T22:11:05.094Z"
   },
   {
    "duration": 13,
    "start_time": "2022-06-15T22:11:05.419Z"
   },
   {
    "duration": 31,
    "start_time": "2022-06-15T22:11:05.434Z"
   },
   {
    "duration": 10,
    "start_time": "2022-06-15T22:11:05.467Z"
   },
   {
    "duration": 46,
    "start_time": "2022-06-15T22:11:05.479Z"
   },
   {
    "duration": 17,
    "start_time": "2022-06-15T22:11:05.527Z"
   },
   {
    "duration": 105,
    "start_time": "2022-06-15T22:11:05.598Z"
   },
   {
    "duration": 192,
    "start_time": "2022-06-15T22:11:05.705Z"
   },
   {
    "duration": 97,
    "start_time": "2022-06-15T22:11:05.899Z"
   },
   {
    "duration": 100,
    "start_time": "2022-06-15T22:11:05.998Z"
   },
   {
    "duration": 2459,
    "start_time": "2022-06-15T22:11:06.099Z"
   },
   {
    "duration": 866,
    "start_time": "2022-06-15T22:12:14.038Z"
   },
   {
    "duration": 322,
    "start_time": "2022-06-15T22:12:14.906Z"
   },
   {
    "duration": 13,
    "start_time": "2022-06-15T22:12:15.230Z"
   },
   {
    "duration": 31,
    "start_time": "2022-06-15T22:12:15.244Z"
   },
   {
    "duration": 21,
    "start_time": "2022-06-15T22:12:15.276Z"
   },
   {
    "duration": 35,
    "start_time": "2022-06-15T22:12:15.299Z"
   },
   {
    "duration": 64,
    "start_time": "2022-06-15T22:12:15.336Z"
   },
   {
    "duration": 106,
    "start_time": "2022-06-15T22:12:15.402Z"
   },
   {
    "duration": 93,
    "start_time": "2022-06-15T22:12:15.510Z"
   },
   {
    "duration": 8,
    "start_time": "2022-06-15T22:12:15.695Z"
   },
   {
    "duration": 17,
    "start_time": "2022-06-15T22:12:15.794Z"
   },
   {
    "duration": 2462,
    "start_time": "2022-06-15T22:12:15.813Z"
   },
   {
    "duration": 880,
    "start_time": "2022-06-15T22:17:39.514Z"
   },
   {
    "duration": 311,
    "start_time": "2022-06-15T22:17:40.396Z"
   },
   {
    "duration": 13,
    "start_time": "2022-06-15T22:17:40.709Z"
   },
   {
    "duration": 30,
    "start_time": "2022-06-15T22:17:40.724Z"
   },
   {
    "duration": 10,
    "start_time": "2022-06-15T22:17:40.756Z"
   },
   {
    "duration": 51,
    "start_time": "2022-06-15T22:17:40.767Z"
   },
   {
    "duration": 78,
    "start_time": "2022-06-15T22:17:40.819Z"
   },
   {
    "duration": 103,
    "start_time": "2022-06-15T22:17:40.898Z"
   },
   {
    "duration": 194,
    "start_time": "2022-06-15T22:17:41.003Z"
   },
   {
    "duration": 95,
    "start_time": "2022-06-15T22:17:41.199Z"
   },
   {
    "duration": 16,
    "start_time": "2022-06-15T22:17:41.296Z"
   },
   {
    "duration": 2365,
    "start_time": "2022-06-15T22:17:41.314Z"
   },
   {
    "duration": 863,
    "start_time": "2022-06-15T22:18:27.628Z"
   },
   {
    "duration": 322,
    "start_time": "2022-06-15T22:18:28.494Z"
   },
   {
    "duration": 15,
    "start_time": "2022-06-15T22:18:30.030Z"
   },
   {
    "duration": 32,
    "start_time": "2022-06-15T22:18:33.824Z"
   },
   {
    "duration": 12,
    "start_time": "2022-06-15T22:18:36.483Z"
   },
   {
    "duration": 39,
    "start_time": "2022-06-15T22:18:38.426Z"
   },
   {
    "duration": 17,
    "start_time": "2022-06-15T22:18:40.617Z"
   },
   {
    "duration": 14,
    "start_time": "2022-06-15T22:18:42.605Z"
   },
   {
    "duration": 16,
    "start_time": "2022-06-15T22:18:46.135Z"
   },
   {
    "duration": 16,
    "start_time": "2022-06-15T22:18:47.189Z"
   },
   {
    "duration": 16,
    "start_time": "2022-06-15T22:18:48.860Z"
   },
   {
    "duration": 14,
    "start_time": "2022-06-15T22:18:50.602Z"
   },
   {
    "duration": 15,
    "start_time": "2022-06-15T22:18:56.495Z"
   },
   {
    "duration": 3,
    "start_time": "2022-06-15T22:19:20.078Z"
   },
   {
    "duration": 18,
    "start_time": "2022-06-15T22:19:26.555Z"
   },
   {
    "duration": 860,
    "start_time": "2022-06-15T22:21:19.830Z"
   },
   {
    "duration": 325,
    "start_time": "2022-06-15T22:21:20.692Z"
   },
   {
    "duration": 14,
    "start_time": "2022-06-15T22:21:21.018Z"
   },
   {
    "duration": 29,
    "start_time": "2022-06-15T22:21:21.034Z"
   },
   {
    "duration": 11,
    "start_time": "2022-06-15T22:21:21.065Z"
   },
   {
    "duration": 50,
    "start_time": "2022-06-15T22:21:21.077Z"
   },
   {
    "duration": 69,
    "start_time": "2022-06-15T22:21:21.128Z"
   },
   {
    "duration": 100,
    "start_time": "2022-06-15T22:21:21.198Z"
   },
   {
    "duration": 201,
    "start_time": "2022-06-15T22:21:21.300Z"
   },
   {
    "duration": 94,
    "start_time": "2022-06-15T22:21:21.503Z"
   },
   {
    "duration": 107,
    "start_time": "2022-06-15T22:21:21.599Z"
   },
   {
    "duration": 2785,
    "start_time": "2022-06-15T22:21:21.708Z"
   },
   {
    "duration": 886,
    "start_time": "2022-06-15T22:24:06.423Z"
   },
   {
    "duration": 329,
    "start_time": "2022-06-15T22:24:07.312Z"
   },
   {
    "duration": 15,
    "start_time": "2022-06-15T22:24:07.643Z"
   },
   {
    "duration": 42,
    "start_time": "2022-06-15T22:24:07.660Z"
   },
   {
    "duration": 11,
    "start_time": "2022-06-15T22:24:07.704Z"
   },
   {
    "duration": 36,
    "start_time": "2022-06-15T22:24:07.717Z"
   },
   {
    "duration": 44,
    "start_time": "2022-06-15T22:24:07.754Z"
   },
   {
    "duration": 104,
    "start_time": "2022-06-15T22:24:07.799Z"
   },
   {
    "duration": 193,
    "start_time": "2022-06-15T22:24:07.905Z"
   },
   {
    "duration": 95,
    "start_time": "2022-06-15T22:24:08.100Z"
   },
   {
    "duration": 106,
    "start_time": "2022-06-15T22:24:08.197Z"
   },
   {
    "duration": 2510,
    "start_time": "2022-06-15T22:24:08.305Z"
   },
   {
    "duration": 923,
    "start_time": "2022-06-15T22:25:38.979Z"
   },
   {
    "duration": 320,
    "start_time": "2022-06-15T22:25:39.904Z"
   },
   {
    "duration": 14,
    "start_time": "2022-06-15T22:25:40.226Z"
   },
   {
    "duration": 29,
    "start_time": "2022-06-15T22:25:40.242Z"
   },
   {
    "duration": 22,
    "start_time": "2022-06-15T22:25:40.273Z"
   },
   {
    "duration": 35,
    "start_time": "2022-06-15T22:25:40.296Z"
   },
   {
    "duration": 16,
    "start_time": "2022-06-15T22:25:40.332Z"
   },
   {
    "duration": 104,
    "start_time": "2022-06-15T22:25:40.393Z"
   },
   {
    "duration": 105,
    "start_time": "2022-06-15T22:25:40.498Z"
   },
   {
    "duration": 91,
    "start_time": "2022-06-15T22:25:40.605Z"
   },
   {
    "duration": 116,
    "start_time": "2022-06-15T22:25:40.698Z"
   },
   {
    "duration": 14952,
    "start_time": "2022-06-15T22:25:40.815Z"
   },
   {
    "duration": 921,
    "start_time": "2022-06-15T22:28:58.874Z"
   },
   {
    "duration": 322,
    "start_time": "2022-06-15T22:28:59.797Z"
   },
   {
    "duration": 14,
    "start_time": "2022-06-15T22:29:00.121Z"
   },
   {
    "duration": 38,
    "start_time": "2022-06-15T22:29:00.137Z"
   },
   {
    "duration": 19,
    "start_time": "2022-06-15T22:29:00.176Z"
   },
   {
    "duration": 43,
    "start_time": "2022-06-15T22:29:00.197Z"
   },
   {
    "duration": 60,
    "start_time": "2022-06-15T22:29:00.242Z"
   },
   {
    "duration": 103,
    "start_time": "2022-06-15T22:29:00.303Z"
   },
   {
    "duration": 199,
    "start_time": "2022-06-15T22:29:00.411Z"
   },
   {
    "duration": 81,
    "start_time": "2022-06-15T22:29:00.613Z"
   },
   {
    "duration": 107,
    "start_time": "2022-06-15T22:29:00.700Z"
   },
   {
    "duration": 2453,
    "start_time": "2022-06-15T22:29:00.809Z"
   },
   {
    "duration": 919,
    "start_time": "2022-06-15T22:29:25.071Z"
   },
   {
    "duration": 321,
    "start_time": "2022-06-15T22:29:25.992Z"
   },
   {
    "duration": 13,
    "start_time": "2022-06-15T22:29:26.314Z"
   },
   {
    "duration": 30,
    "start_time": "2022-06-15T22:29:26.328Z"
   },
   {
    "duration": 10,
    "start_time": "2022-06-15T22:29:26.360Z"
   },
   {
    "duration": 34,
    "start_time": "2022-06-15T22:29:26.394Z"
   },
   {
    "duration": 15,
    "start_time": "2022-06-15T22:29:26.429Z"
   },
   {
    "duration": 151,
    "start_time": "2022-06-15T22:29:26.446Z"
   },
   {
    "duration": 196,
    "start_time": "2022-06-15T22:29:26.599Z"
   },
   {
    "duration": 4,
    "start_time": "2022-06-15T22:29:26.797Z"
   },
   {
    "duration": 110,
    "start_time": "2022-06-15T22:29:26.802Z"
   },
   {
    "duration": 2486,
    "start_time": "2022-06-15T22:29:26.914Z"
   },
   {
    "duration": 924,
    "start_time": "2022-06-15T22:30:37.054Z"
   },
   {
    "duration": 326,
    "start_time": "2022-06-15T22:30:37.980Z"
   },
   {
    "duration": 13,
    "start_time": "2022-06-15T22:30:38.308Z"
   },
   {
    "duration": 29,
    "start_time": "2022-06-15T22:30:38.323Z"
   },
   {
    "duration": 11,
    "start_time": "2022-06-15T22:30:38.354Z"
   },
   {
    "duration": 56,
    "start_time": "2022-06-15T22:30:38.366Z"
   },
   {
    "duration": 72,
    "start_time": "2022-06-15T22:30:38.424Z"
   },
   {
    "duration": 104,
    "start_time": "2022-06-15T22:30:38.498Z"
   },
   {
    "duration": 96,
    "start_time": "2022-06-15T22:30:38.604Z"
   },
   {
    "duration": 101,
    "start_time": "2022-06-15T22:30:38.702Z"
   },
   {
    "duration": 17,
    "start_time": "2022-06-15T22:30:38.895Z"
   },
   {
    "duration": 2417,
    "start_time": "2022-06-15T22:30:38.914Z"
   }
  ],
  "kernelspec": {
   "display_name": "TT11_env",
   "language": "python",
   "name": "python3"
  },
  "language_info": {
   "codemirror_mode": {
    "name": "ipython",
    "version": 3
   },
   "file_extension": ".py",
   "mimetype": "text/x-python",
   "name": "python",
   "nbconvert_exporter": "python",
   "pygments_lexer": "ipython3",
   "version": "3.12.8"
  },
  "toc": {
   "base_numbering": 1,
   "nav_menu": {},
   "number_sections": true,
   "sideBar": true,
   "skip_h1_title": true,
   "title_cell": "Table of Contents",
   "title_sidebar": "Contents",
   "toc_cell": false,
   "toc_position": {},
   "toc_section_display": true,
   "toc_window_display": false
  }
 },
 "nbformat": 4,
 "nbformat_minor": 2
}
